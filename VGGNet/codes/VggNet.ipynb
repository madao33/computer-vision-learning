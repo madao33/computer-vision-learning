{
  "nbformat": 4,
  "nbformat_minor": 2,
  "metadata": {
    "accelerator": "GPU",
    "colab": {
      "name": "VGGNet.ipynb",
      "provenance": [],
      "collapsed_sections": []
    },
    "kernelspec": {
      "name": "python3",
      "display_name": "Python 3.6.2 64-bit ('python3.6env': conda)"
    },
    "language_info": {
      "codemirror_mode": {
        "name": "ipython",
        "version": 3
      },
      "file_extension": ".py",
      "mimetype": "text/x-python",
      "name": "python",
      "nbconvert_exporter": "python",
      "pygments_lexer": "ipython3",
      "version": "3.6.2"
    },
    "interpreter": {
      "hash": "7835acacaeaf508b921ecd27357232a38d5f7dc52657613320ee88843bc3a5f4"
    }
  },
  "cells": [
    {
      "cell_type": "markdown",
      "source": [
        "\n",
        "# VGGNet "
      ],
      "metadata": {
        "id": "SEHO-jaFj9Zm"
      }
    },
    {
      "cell_type": "code",
      "execution_count": 1,
      "source": [
        "import torch\r\n",
        "import torch.nn as nn\r\n",
        "import torch.optim as optim\r\n",
        "import torch.nn.functional as F\r\n",
        "import torchvision.transforms as transforms\r\n",
        "import torchvision.datasets as dsets \r\n",
        "import torchvision\r\n",
        "import time\r\n",
        "import os\r\n"
      ],
      "outputs": [],
      "metadata": {
        "id": "LGgir5u7j9Zy"
      }
    },
    {
      "cell_type": "code",
      "execution_count": 2,
      "source": [
        "transform_train = transforms.Compose([\r\n",
        "    transforms.RandomCrop(32, padding=4),\r\n",
        "    transforms.RandomHorizontalFlip(),\r\n",
        "    transforms.ToTensor(),\r\n",
        "    transforms.Normalize((0.4914, 0.4822, 0.4465), (0.2023, 0.1994, 0.2010)),\r\n",
        "])\r\n",
        "\r\n",
        "transform_test = transforms.Compose([\r\n",
        "    transforms.ToTensor(),\r\n",
        "    transforms.Normalize((0.4914, 0.4822, 0.4465), (0.2023, 0.1994, 0.2010)),\r\n",
        "])\r\n",
        "\r\n",
        "train_dataset = dsets.CIFAR10(root='./data/CIFAR10/', \r\n",
        "                            train=True, \r\n",
        "                            transform=transform_train,\r\n",
        "                            download=True)\r\n",
        "\r\n",
        "test_dataset = dsets.CIFAR10(root='./data/CIFAR10/', \r\n",
        "                           train=False, \r\n",
        "                           transform=transform_test)"
      ],
      "outputs": [
        {
          "output_type": "stream",
          "name": "stdout",
          "text": [
            "Files already downloaded and verified\n"
          ]
        }
      ],
      "metadata": {
        "id": "OwvpXFuaj9Z0",
        "colab": {
          "base_uri": "https://localhost:8080/"
        },
        "outputId": "f63a8338-abc9-4771-f6bb-f66037775672"
      }
    },
    {
      "cell_type": "code",
      "execution_count": 3,
      "source": [
        "# reducing the dataset\r\n",
        "reduced_train_dataset = []\r\n",
        "for images, labels in train_dataset:\r\n",
        "    if labels < 3:\r\n",
        "        reduced_train_dataset.append((images, labels))\r\n",
        "        \r\n",
        "reduced_test_dataset = []\r\n",
        "for images, labels in test_dataset:\r\n",
        "    if labels < 3:\r\n",
        "        reduced_test_dataset.append((images, labels))"
      ],
      "outputs": [],
      "metadata": {
        "id": "DrK0ZHmLj9Z4"
      }
    },
    {
      "cell_type": "code",
      "execution_count": 4,
      "source": [
        "print(\"The number of training images : \", len(reduced_train_dataset))\r\n",
        "print(\"The number of test images : \", len(reduced_test_dataset))"
      ],
      "outputs": [
        {
          "output_type": "stream",
          "name": "stdout",
          "text": [
            "The number of training images :  15000\n",
            "The number of test images :  3000\n"
          ]
        }
      ],
      "metadata": {
        "id": "LWnYJ2cwj9Z6",
        "colab": {
          "base_uri": "https://localhost:8080/"
        },
        "outputId": "b3c0a297-68db-4177-af87-94fcdc4f8e65"
      }
    },
    {
      "cell_type": "code",
      "execution_count": 5,
      "source": [
        "print('STEP 2: MAKING DATASET ITERABLE')\r\n",
        "\r\n",
        "train_loader = torch.utils.data.DataLoader(dataset=reduced_train_dataset, \r\n",
        "                                           batch_size=128, \r\n",
        "                                           shuffle=True)\r\n",
        "\r\n",
        "test_loader = torch.utils.data.DataLoader(dataset=reduced_test_dataset, \r\n",
        "                                          batch_size=100, \r\n",
        "                                          shuffle=False)\r\n",
        "\r\n",
        "class_names = ('plane', 'car', 'bird', 'cat', 'deer', 'dog', 'frog', 'horse', 'ship', 'truck')"
      ],
      "outputs": [
        {
          "output_type": "stream",
          "name": "stdout",
          "text": [
            "STEP 2: MAKING DATASET ITERABLE\n"
          ]
        }
      ],
      "metadata": {
        "id": "WFq0isyCj9Z-",
        "colab": {
          "base_uri": "https://localhost:8080/"
        },
        "outputId": "3112874e-de7b-4b20-fd1f-65cce8f026bf"
      }
    },
    {
      "cell_type": "markdown",
      "source": [
        "### Visualize a few images"
      ],
      "metadata": {
        "id": "Wy7GW1lkj9aB"
      }
    },
    {
      "cell_type": "code",
      "execution_count": 6,
      "source": [
        "import matplotlib.pyplot as plt\r\n",
        "%matplotlib inline  \r\n",
        "import numpy as np"
      ],
      "outputs": [],
      "metadata": {
        "id": "tJGv35Alj9aC"
      }
    },
    {
      "cell_type": "code",
      "execution_count": 7,
      "source": [
        "def imshow(inp, title=None):\r\n",
        "    \"\"\"Imshow for Tensor.\"\"\"\r\n",
        "    inp = inp.numpy().transpose((1, 2, 0))\r\n",
        "    mean = np.array([0.4914, 0.4822, 0.4465])\r\n",
        "    std = np.array([0.2023, 0.1994, 0.2010])\r\n",
        "    inp = std * inp + mean\r\n",
        "    inp = np.clip(inp, 0, 1)\r\n",
        "    plt.imshow(inp)\r\n",
        "    if title is not None:\r\n",
        "        plt.title(title)\r\n",
        "    plt.pause(0.001)  # pause a bit so that plots are updated"
      ],
      "outputs": [],
      "metadata": {
        "id": "3PYou4Cuj9aE"
      }
    },
    {
      "cell_type": "code",
      "execution_count": 8,
      "source": [
        "train_loader_sample = torch.utils.data.DataLoader(dataset=reduced_train_dataset, \r\n",
        "                                           batch_size=4, \r\n",
        "                                           shuffle=True)\r\n",
        "\r\n",
        "# Get a batch of training data\r\n",
        "inputs, classes = next(iter(train_loader_sample))\r\n",
        "\r\n",
        "# Make a grid from batch\r\n",
        "out = torchvision.utils.make_grid(inputs)\r\n",
        "\r\n",
        "imshow(out, title=[class_names[x] for x in classes])"
      ],
      "outputs": [
        {
          "output_type": "display_data",
          "data": {
            "text/plain": [
              "<Figure size 432x288 with 1 Axes>"
            ],
            "image/png": "[encoded data removed]"
          },
          "metadata": {
            "tags": [],
            "needs_background": "light"
          }
        }
      ],
      "metadata": {
        "id": "jX59AE2pj9aH",
        "colab": {
          "base_uri": "https://localhost:8080/",
          "height": 151
        },
        "outputId": "d5c01437-6240-41c1-d17f-3278248cc5bf"
      }
    },
    {
      "cell_type": "code",
      "execution_count": 9,
      "source": [
        "class VGG(nn.Module):\r\n",
        "    def __init__(self):\r\n",
        "        super(VGG, self).__init__()\r\n",
        "\r\n",
        "        self.conv1 = nn.Sequential(\r\n",
        "            nn.Conv2d(in_channels=3, out_channels=64, kernel_size=3, stride=1, padding=1),\r\n",
        "            nn.BatchNorm2d(64),\r\n",
        "            nn.ReLU(),\r\n",
        "            nn.Conv2d(in_channels=64, out_channels=64, kernel_size=3, stride=1, padding=1),\r\n",
        "            nn.BatchNorm2d(64),\r\n",
        "            nn.ReLU(),\r\n",
        "            nn.MaxPool2d(kernel_size=2)\r\n",
        "        )\r\n",
        "        self.conv2 = nn.Sequential(\r\n",
        "            nn.Conv2d(in_channels=64, out_channels=128, kernel_size=3, stride=1, padding=1),\r\n",
        "            nn.BatchNorm2d(128),\r\n",
        "            nn.ReLU(),\r\n",
        "            nn.Conv2d(in_channels=128, out_channels=128, kernel_size=3, stride=1, padding=1),\r\n",
        "            nn.BatchNorm2d(128),\r\n",
        "            nn.ReLU(),\r\n",
        "            nn.MaxPool2d(kernel_size=2)\r\n",
        "        )\r\n",
        "        self.conv3 = nn.Sequential(\r\n",
        "            nn.Conv2d(in_channels=128, out_channels=256, kernel_size=3, stride=1, padding=1),\r\n",
        "            nn.BatchNorm2d(256),\r\n",
        "            nn.ReLU(),\r\n",
        "            nn.Conv2d(in_channels=256, out_channels=256, kernel_size=3, stride=1, padding=1),\r\n",
        "            nn.BatchNorm2d(256),\r\n",
        "            nn.ReLU(),\r\n",
        "            nn.Conv2d(in_channels=256, out_channels=256, kernel_size=3, stride=1, padding=1),\r\n",
        "            nn.BatchNorm2d(256),\r\n",
        "            nn.ReLU(),\r\n",
        "            nn.MaxPool2d(kernel_size=2)\r\n",
        "        )\r\n",
        "        self.conv4 = nn.Sequential(\r\n",
        "            nn.Conv2d(in_channels=256, out_channels=512, kernel_size=3, stride=1, padding=1),\r\n",
        "            nn.BatchNorm2d(512),\r\n",
        "            nn.ReLU(),\r\n",
        "            nn.Conv2d(in_channels=512, out_channels=512, kernel_size=3, stride=1, padding=1),\r\n",
        "            nn.BatchNorm2d(512),\r\n",
        "            nn.ReLU(),\r\n",
        "            nn.Conv2d(in_channels=512, out_channels=512, kernel_size=3, stride=1, padding=1),\r\n",
        "            nn.BatchNorm2d(512),\r\n",
        "            nn.ReLU(),\r\n",
        "            nn.MaxPool2d(kernel_size=2)\r\n",
        "        )\r\n",
        "        self.conv5 = nn.Sequential(\r\n",
        "            nn.Conv2d(in_channels=512, out_channels=512, kernel_size=3, stride=1, padding=1),\r\n",
        "            nn.BatchNorm2d(512),\r\n",
        "            nn.ReLU(),\r\n",
        "            nn.Conv2d(in_channels=512, out_channels=512, kernel_size=3, stride=1, padding=1),\r\n",
        "            nn.BatchNorm2d(512),\r\n",
        "            nn.ReLU(),\r\n",
        "            nn.Conv2d(in_channels=512, out_channels=512, kernel_size=3, stride=1, padding=1),\r\n",
        "            nn.BatchNorm2d(512),\r\n",
        "            nn.ReLU(),\r\n",
        "            nn.MaxPool2d(kernel_size=2)\r\n",
        "        )\r\n",
        "        self.fc1 = nn.Linear(512, 3)\r\n",
        "\r\n",
        "    def forward(self, x):\r\n",
        "        # Convolutions\r\n",
        "        out = self.conv1(x)\r\n",
        "        out = self.conv2(out)\r\n",
        "        out = self.conv3(out)\r\n",
        "        out = self.conv4(out)\r\n",
        "        out = self.conv5(out)\r\n",
        "        \r\n",
        "        # Resize\r\n",
        "        out = out.view(out.size(0), -1)\r\n",
        "        out = self.fc1(out)\r\n",
        "\r\n",
        "        return out\r\n"
      ],
      "outputs": [],
      "metadata": {
        "id": "gjeNHb89j9aN"
      }
    },
    {
      "cell_type": "code",
      "execution_count": 10,
      "source": [
        "## Instantiate Model Class\r\n",
        "\r\n",
        "model = VGG()\r\n",
        "num_total_params = sum(p.numel() for p in model.parameters())\r\n",
        "print(\"The number of parameters : \", num_total_params)\r\n",
        "\r\n",
        "\r\n",
        "device = torch.device(\"cuda:0\" if torch.cuda.is_available() else \"cpu\")\r\n",
        "model.to(device)"
      ],
      "outputs": [
        {
          "output_type": "stream",
          "name": "stdout",
          "text": [
            "The number of parameters :  14724675\n"
          ]
        },
        {
          "output_type": "execute_result",
          "data": {
            "text/plain": [
              "VGG(\n",
              "  (conv1): Sequential(\n",
              "    (0): Conv2d(3, 64, kernel_size=(3, 3), stride=(1, 1), padding=(1, 1))\n",
              "    (1): BatchNorm2d(64, eps=1e-05, momentum=0.1, affine=True, track_running_stats=True)\n",
              "    (2): ReLU()\n",
              "    (3): Conv2d(64, 64, kernel_size=(3, 3), stride=(1, 1), padding=(1, 1))\n",
              "    (4): BatchNorm2d(64, eps=1e-05, momentum=0.1, affine=True, track_running_stats=True)\n",
              "    (5): ReLU()\n",
              "    (6): MaxPool2d(kernel_size=2, stride=2, padding=0, dilation=1, ceil_mode=False)\n",
              "  )\n",
              "  (conv2): Sequential(\n",
              "    (0): Conv2d(64, 128, kernel_size=(3, 3), stride=(1, 1), padding=(1, 1))\n",
              "    (1): BatchNorm2d(128, eps=1e-05, momentum=0.1, affine=True, track_running_stats=True)\n",
              "    (2): ReLU()\n",
              "    (3): Conv2d(128, 128, kernel_size=(3, 3), stride=(1, 1), padding=(1, 1))\n",
              "    (4): BatchNorm2d(128, eps=1e-05, momentum=0.1, affine=True, track_running_stats=True)\n",
              "    (5): ReLU()\n",
              "    (6): MaxPool2d(kernel_size=2, stride=2, padding=0, dilation=1, ceil_mode=False)\n",
              "  )\n",
              "  (conv3): Sequential(\n",
              "    (0): Conv2d(128, 256, kernel_size=(3, 3), stride=(1, 1), padding=(1, 1))\n",
              "    (1): BatchNorm2d(256, eps=1e-05, momentum=0.1, affine=True, track_running_stats=True)\n",
              "    (2): ReLU()\n",
              "    (3): Conv2d(256, 256, kernel_size=(3, 3), stride=(1, 1), padding=(1, 1))\n",
              "    (4): BatchNorm2d(256, eps=1e-05, momentum=0.1, affine=True, track_running_stats=True)\n",
              "    (5): ReLU()\n",
              "    (6): Conv2d(256, 256, kernel_size=(3, 3), stride=(1, 1), padding=(1, 1))\n",
              "    (7): BatchNorm2d(256, eps=1e-05, momentum=0.1, affine=True, track_running_stats=True)\n",
              "    (8): ReLU()\n",
              "    (9): MaxPool2d(kernel_size=2, stride=2, padding=0, dilation=1, ceil_mode=False)\n",
              "  )\n",
              "  (conv4): Sequential(\n",
              "    (0): Conv2d(256, 512, kernel_size=(3, 3), stride=(1, 1), padding=(1, 1))\n",
              "    (1): BatchNorm2d(512, eps=1e-05, momentum=0.1, affine=True, track_running_stats=True)\n",
              "    (2): ReLU()\n",
              "    (3): Conv2d(512, 512, kernel_size=(3, 3), stride=(1, 1), padding=(1, 1))\n",
              "    (4): BatchNorm2d(512, eps=1e-05, momentum=0.1, affine=True, track_running_stats=True)\n",
              "    (5): ReLU()\n",
              "    (6): Conv2d(512, 512, kernel_size=(3, 3), stride=(1, 1), padding=(1, 1))\n",
              "    (7): BatchNorm2d(512, eps=1e-05, momentum=0.1, affine=True, track_running_stats=True)\n",
              "    (8): ReLU()\n",
              "    (9): MaxPool2d(kernel_size=2, stride=2, padding=0, dilation=1, ceil_mode=False)\n",
              "  )\n",
              "  (conv5): Sequential(\n",
              "    (0): Conv2d(512, 512, kernel_size=(3, 3), stride=(1, 1), padding=(1, 1))\n",
              "    (1): BatchNorm2d(512, eps=1e-05, momentum=0.1, affine=True, track_running_stats=True)\n",
              "    (2): ReLU()\n",
              "    (3): Conv2d(512, 512, kernel_size=(3, 3), stride=(1, 1), padding=(1, 1))\n",
              "    (4): BatchNorm2d(512, eps=1e-05, momentum=0.1, affine=True, track_running_stats=True)\n",
              "    (5): ReLU()\n",
              "    (6): Conv2d(512, 512, kernel_size=(3, 3), stride=(1, 1), padding=(1, 1))\n",
              "    (7): BatchNorm2d(512, eps=1e-05, momentum=0.1, affine=True, track_running_stats=True)\n",
              "    (8): ReLU()\n",
              "    (9): MaxPool2d(kernel_size=2, stride=2, padding=0, dilation=1, ceil_mode=False)\n",
              "  )\n",
              "  (fc1): Linear(in_features=512, out_features=3, bias=True)\n",
              ")"
            ]
          },
          "metadata": {
            "tags": []
          },
          "execution_count": 10
        }
      ],
      "metadata": {
        "id": "iqoPZuR3j9aQ",
        "colab": {
          "base_uri": "https://localhost:8080/"
        },
        "outputId": "0bfd3c49-9eb0-4fee-d3b0-63a8ca3200ae"
      }
    },
    {
      "cell_type": "code",
      "execution_count": 11,
      "source": [
        "## Loss/Optimizer\r\n",
        "\r\n",
        "criterion = nn.CrossEntropyLoss()\r\n",
        "learning_rate = 1e-2\r\n",
        "momentum = 0.9\r\n",
        "weight_decay = 5e-4\r\n",
        "\r\n",
        "optimizer = torch.optim.SGD(model.parameters(), lr=learning_rate, momentum = momentum, weight_decay = weight_decay)"
      ],
      "outputs": [],
      "metadata": {
        "id": "mFeamtXXj9aT"
      }
    },
    {
      "cell_type": "code",
      "execution_count": 12,
      "source": [
        "## Training\r\n",
        "num_epochs = 50\r\n",
        "\r\n",
        "iter = 0\r\n",
        "for epoch in range(num_epochs):\r\n",
        "    for i, (images, labels) in enumerate(train_loader):\r\n",
        "\r\n",
        "        images = images.to(device)\r\n",
        "        labels = labels.to(device)\r\n",
        "\r\n",
        "        optimizer.zero_grad()\r\n",
        "        outputs = model(images)\r\n",
        "        loss = criterion(outputs, labels)\r\n",
        "        loss.backward()\r\n",
        "\r\n",
        "        optimizer.step()\r\n",
        "        \r\n",
        "    correct = 0\r\n",
        "    total = 0\r\n",
        "    # Iterate through test dataset\r\n",
        "    for images, labels in test_loader:\r\n",
        "\r\n",
        "        images = images.to(device)\r\n",
        "        labels = labels.to(device)\r\n",
        "        \r\n",
        "        outputs = model(images) \r\n",
        "        _, predicted = torch.max(outputs.data, 1)\r\n",
        "        total += labels.size(0)\r\n",
        "        correct += (predicted == labels).sum()\r\n",
        "\r\n",
        "    accuracy = 100 * correct.item() / total\r\n",
        "\r\n",
        "    # Print Loss\r\n",
        "    print('Epoch {}. Loss: {}. Accuracy: {}'.format(epoch, loss.item(), accuracy))\r\n",
        "#############"
      ],
      "outputs": [
        {
          "output_type": "stream",
          "name": "stderr",
          "text": [
            "/usr/local/lib/python3.7/dist-packages/torch/nn/functional.py:718: UserWarning: Named tensors and all their associated APIs are an experimental feature and subject to change. Please do not use them for anything important until they are released as stable. (Triggered internally at  /pytorch/c10/core/TensorImpl.h:1156.)\n",
            "  return torch.max_pool2d(input, kernel_size, stride, padding, dilation, ceil_mode)\n"
          ]
        },
        {
          "output_type": "stream",
          "name": "stdout",
          "text": [
            "Epoch 0. Loss: 0.5742393732070923. Accuracy: 83.66666666666667\n",
            "Epoch 1. Loss: 0.40269795060157776. Accuracy: 86.63333333333334\n",
            "Epoch 2. Loss: 0.2371339052915573. Accuracy: 88.5\n",
            "Epoch 3. Loss: 0.44756925106048584. Accuracy: 88.23333333333333\n",
            "Epoch 4. Loss: 0.39500197768211365. Accuracy: 88.8\n",
            "Epoch 5. Loss: 0.22342568635940552. Accuracy: 90.76666666666667\n",
            "Epoch 6. Loss: 0.05593661591410637. Accuracy: 91.23333333333333\n",
            "Epoch 7. Loss: 0.011301316320896149. Accuracy: 90.63333333333334\n",
            "Epoch 8. Loss: 0.04968326911330223. Accuracy: 92.16666666666667\n",
            "Epoch 9. Loss: 0.12825727462768555. Accuracy: 90.73333333333333\n",
            "Epoch 10. Loss: 0.008245733566582203. Accuracy: 92.16666666666667\n",
            "Epoch 11. Loss: 0.19846688210964203. Accuracy: 91.8\n",
            "Epoch 12. Loss: 0.06683117896318436. Accuracy: 91.46666666666667\n",
            "Epoch 13. Loss: 0.06584116816520691. Accuracy: 92.3\n",
            "Epoch 14. Loss: 0.07137342542409897. Accuracy: 91.96666666666667\n",
            "Epoch 15. Loss: 0.0017633828101679683. Accuracy: 92.86666666666666\n",
            "Epoch 16. Loss: 0.06365344673395157. Accuracy: 93.1\n",
            "Epoch 17. Loss: 0.002621516352519393. Accuracy: 91.63333333333334\n",
            "Epoch 18. Loss: 0.2748899459838867. Accuracy: 92.93333333333334\n",
            "Epoch 19. Loss: 0.011702283285558224. Accuracy: 93.4\n",
            "Epoch 20. Loss: 0.0003703629190567881. Accuracy: 92.66666666666667\n",
            "Epoch 21. Loss: 0.0024486021138727665. Accuracy: 93.7\n",
            "Epoch 22. Loss: 0.0356595404446125. Accuracy: 93.33333333333333\n",
            "Epoch 23. Loss: 0.0003634128952398896. Accuracy: 92.76666666666667\n",
            "Epoch 24. Loss: 0.04696182534098625. Accuracy: 92.56666666666666\n",
            "Epoch 25. Loss: 0.09958905726671219. Accuracy: 92.7\n",
            "Epoch 26. Loss: 0.17162220180034637. Accuracy: 92.36666666666666\n",
            "Epoch 27. Loss: 0.009680134244263172. Accuracy: 92.93333333333334\n",
            "Epoch 28. Loss: 0.08440369367599487. Accuracy: 93.5\n",
            "Epoch 29. Loss: 0.06431729346513748. Accuracy: 93.26666666666667\n",
            "Epoch 30. Loss: 0.009013362228870392. Accuracy: 93.46666666666667\n",
            "Epoch 31. Loss: 0.18230386078357697. Accuracy: 93.4\n",
            "Epoch 32. Loss: 0.0009615866583772004. Accuracy: 92.63333333333334\n",
            "Epoch 33. Loss: 0.13079260289669037. Accuracy: 92.13333333333334\n",
            "Epoch 34. Loss: 0.00011742366041289642. Accuracy: 93.26666666666667\n",
            "Epoch 35. Loss: 0.13156653940677643. Accuracy: 93.13333333333334\n",
            "Epoch 36. Loss: 0.07050688564777374. Accuracy: 92.36666666666666\n",
            "Epoch 37. Loss: 0.0008148620836436749. Accuracy: 93.23333333333333\n",
            "Epoch 38. Loss: 0.03399736061692238. Accuracy: 93.66666666666667\n",
            "Epoch 39. Loss: 0.0019302064320072532. Accuracy: 93.36666666666666\n",
            "Epoch 40. Loss: 0.0008526549208909273. Accuracy: 93.26666666666667\n",
            "Epoch 41. Loss: 0.0002856892824638635. Accuracy: 93.23333333333333\n",
            "Epoch 42. Loss: 0.001912760897539556. Accuracy: 92.9\n",
            "Epoch 43. Loss: 0.007499492261558771. Accuracy: 93.26666666666667\n",
            "Epoch 44. Loss: 0.00024754248443059623. Accuracy: 93.06666666666666\n",
            "Epoch 45. Loss: 0.025322042405605316. Accuracy: 93.06666666666666\n",
            "Epoch 46. Loss: 0.00015217023610603064. Accuracy: 93.03333333333333\n",
            "Epoch 47. Loss: 0.0003425484464969486. Accuracy: 93.26666666666667\n",
            "Epoch 48. Loss: 0.0007479854975827038. Accuracy: 93.9\n",
            "Epoch 49. Loss: 0.009067901410162449. Accuracy: 92.93333333333334\n"
          ]
        }
      ],
      "metadata": {
        "id": "34N-R0LuEvSd",
        "colab": {
          "base_uri": "https://localhost:8080/"
        },
        "outputId": "a05bfd29-d14d-415e-9437-d4163171ca43"
      }
    }
  ]
}