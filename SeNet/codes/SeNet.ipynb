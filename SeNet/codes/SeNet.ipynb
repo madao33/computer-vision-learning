{
  "nbformat": 4,
  "nbformat_minor": 2,
  "metadata": {
    "colab": {
      "name": "PlayGround",
      "provenance": [],
      "collapsed_sections": []
    },
    "kernelspec": {
      "name": "python3",
      "display_name": "Python 3.6.2 64-bit ('python3.6env': conda)"
    },
    "accelerator": "GPU",
    "language_info": {
      "name": "python",
      "version": "3.6.2",
      "mimetype": "text/x-python",
      "codemirror_mode": {
        "name": "ipython",
        "version": 3
      },
      "pygments_lexer": "ipython3",
      "nbconvert_exporter": "python",
      "file_extension": ".py"
    },
    "interpreter": {
      "hash": "7835acacaeaf508b921ecd27357232a38d5f7dc52657613320ee88843bc3a5f4"
    }
  },
  "cells": [
    {
      "cell_type": "code",
      "execution_count": 10,
      "source": [
        "import numpy as np\r\n",
        "import tensorflow as tf\r\n",
        "import keras\r\n",
        "from keras.layers import Conv2D, BatchNormalization, Dropout, Dense, GlobalAveragePooling2D\r\n",
        "from keras.layers import Activation, Reshape, Permute, multiply, MaxPooling2D, AveragePooling2D\r\n",
        "import albumentations as albu\r\n",
        "from albumentations import (HorizontalFlip, ShiftScaleRotate, GridDistortion)\r\n",
        "import keras.backend as K\r\n",
        "from sklearn.model_selection import train_test_split\r\n",
        "import matplotlib.pyplot as plt"
      ],
      "outputs": [],
      "metadata": {
        "id": "8uDJZYTqdZW5",
        "colab_type": "code",
        "colab": {
          "base_uri": "https://localhost:8080/",
          "height": 34
        },
        "outputId": "47c7bb6a-f0a9-4288-d71d-6a4ccf0dc148"
      }
    },
    {
      "cell_type": "code",
      "execution_count": 11,
      "source": [
        "#Load cifar10 data\r\n",
        "(train_x, train_y), (test_x, test_y) = keras.datasets.cifar10.load_data()"
      ],
      "outputs": [
        {
          "output_type": "error",
          "ename": "TypeError",
          "evalue": "load_data() got an unexpected keyword argument 'download'",
          "traceback": [
            "\u001b[1;31m---------------------------------------------------------------------------\u001b[0m",
            "\u001b[1;31mTypeError\u001b[0m                                 Traceback (most recent call last)",
            "\u001b[1;32m<ipython-input-11-36eb40e57423>\u001b[0m in \u001b[0;36m<module>\u001b[1;34m()\u001b[0m\n\u001b[0;32m      1\u001b[0m \u001b[1;31m#Load cifar10 data\u001b[0m\u001b[1;33m\u001b[0m\u001b[1;33m\u001b[0m\u001b[0m\n\u001b[1;32m----> 2\u001b[1;33m \u001b[1;33m(\u001b[0m\u001b[0mtrain_x\u001b[0m\u001b[1;33m,\u001b[0m \u001b[0mtrain_y\u001b[0m\u001b[1;33m)\u001b[0m\u001b[1;33m,\u001b[0m \u001b[1;33m(\u001b[0m\u001b[0mtest_x\u001b[0m\u001b[1;33m,\u001b[0m \u001b[0mtest_y\u001b[0m\u001b[1;33m)\u001b[0m \u001b[1;33m=\u001b[0m \u001b[0mkeras\u001b[0m\u001b[1;33m.\u001b[0m\u001b[0mdatasets\u001b[0m\u001b[1;33m.\u001b[0m\u001b[0mcifar10\u001b[0m\u001b[1;33m.\u001b[0m\u001b[0mload_data\u001b[0m\u001b[1;33m(\u001b[0m\u001b[0mdownload\u001b[0m\u001b[1;33m=\u001b[0m\u001b[1;32mTrue\u001b[0m\u001b[1;33m)\u001b[0m\u001b[1;33m\u001b[0m\u001b[0m\n\u001b[0m",
            "\u001b[1;31mTypeError\u001b[0m: load_data() got an unexpected keyword argument 'download'"
          ]
        }
      ],
      "metadata": {
        "id": "SQ_-SYQvyMj9",
        "colab_type": "code",
        "colab": {
          "base_uri": "https://localhost:8080/",
          "height": 52
        },
        "outputId": "9670326a-c556-43ad-a1e4-5320adef02df"
      }
    },
    {
      "cell_type": "code",
      "execution_count": null,
      "source": [
        "train_y = keras.utils.to_categorical(train_y, 10)\r\n",
        "test_y = keras.utils.to_categorical(test_y, 10)\r\n",
        "\r\n",
        "x_train, x_test, y_train, y_test = train_test_split(train_x, train_y, test_size = 0.25, random_state = 2019)"
      ],
      "outputs": [],
      "metadata": {
        "id": "idUJGGJmp9-d",
        "colab_type": "code",
        "colab": {}
      }
    },
    {
      "cell_type": "code",
      "execution_count": null,
      "source": [
        "# Swish activation function : https://arxiv.org/abs/1710.05941\r\n",
        "def _swish(x):\r\n",
        "  return K.sigmoid(x)*x\r\n",
        "\r\n",
        "#helper function for convolution -> batch_normalization-> activation\r\n",
        "def _conv_bn_act(filters = 32, kernel_size = (3,3), strides = 1, activation = \"relu\"):\r\n",
        "\r\n",
        "  def f(input_x):\r\n",
        "\r\n",
        "    x = Conv2D(filters = filters, kernel_size = kernel_size, strides = (strides, strides), kernel_initializer=\"he_normal\")(input_x)\r\n",
        "    x = BatchNormalization()(x)\r\n",
        "    x = Activation(activation)(x)\r\n",
        "\r\n",
        "    return x\r\n",
        "\r\n",
        "  return f\r\n",
        "\r\n",
        "#helper function for fully-connected -> batch_normalization-> activation\r\n",
        "def _fc_bn_act(units, activation = \"relu\"):\r\n",
        "\r\n",
        "  def f(input_x):\r\n",
        "\r\n",
        "    x = Dense(units = units, kernel_initializer=\"he_normal\")(input_x)\r\n",
        "    x = BatchNormalization()(x)\r\n",
        "    x = Activation(activation)(x)\r\n",
        "    \r\n",
        "    return x\r\n",
        "  return f\r\n",
        "\r\n",
        "#Squeeze and excitation block in keras\r\n",
        "def SEBlock(se_ratio = 16, activation = \"relu\", data_format = 'channels_last', ki = \"he_normal\"):\r\n",
        "    '''\r\n",
        "    se_ratio : ratio for reduce the filter number of first Dense layer(fc layer) in block\r\n",
        "    activation : activation function that of first dense layer\r\n",
        "    data_format : channel axis is at the first of dimension or the last\r\n",
        "    ki : kernel initializer\r\n",
        "    '''\r\n",
        "\r\n",
        "    def f(input_x):\r\n",
        "\r\n",
        "        channel_axis = -1 if data_format == 'channels_last' else 1\r\n",
        "        input_channels = input_x._keras_shape[channel_axis]\r\n",
        "\r\n",
        "        reduced_channels = input_channels // se_ratio\r\n",
        "\r\n",
        "        #Squeeze operation\r\n",
        "        x = GlobalAveragePooling2D()(input_x)\r\n",
        "        x = Reshape(1,1,input_channels)(x) if data_format == 'channels_first' else x\r\n",
        "        x = Dense(reduced_channels, kernel_initializer= ki)(x)\r\n",
        "        x = Activation(activation)(x)\r\n",
        "        #Excitation operation\r\n",
        "        x = Dense(input_channels, kernel_initializer=ki, activation='sigmoid')(x)\r\n",
        "        x = Permute(dims=(3,1,2))(x) if data_format == 'channels_first' else x\r\n",
        "        x = multiply([input_x, x])\r\n",
        "\r\n",
        "        return x\r\n",
        "\r\n",
        "    return f\r\n",
        "\r\n",
        "\r\n",
        "def CNN(input_shape = (32,32,3), output_units = 10, activation = _swish, SE_flag = False, data_format = 'channels_last'):\r\n",
        "\r\n",
        "  input_layer = keras.layers.Input(shape = input_shape)\r\n",
        "\r\n",
        "  x = _conv_bn_act(filters=32, activation = activation)(input_layer)\r\n",
        "  x = SEBlock(se_ratio=1, activation = activation, data_format=data_format)(x) if SE_flag == True else x\r\n",
        "  x = _conv_bn_act(filters=32, activation = activation)(x)\r\n",
        "  x = MaxPooling2D(pool_size=(2,2))(x)\r\n",
        "  x = _conv_bn_act(filters=64, activation = activation)(x)\r\n",
        "  x = SEBlock(se_ratio=1, activation = activation, data_format=data_format)(x) if SE_flag == True else x\r\n",
        "  x = _conv_bn_act(filters=64, activation = activation)(x)\r\n",
        "  x = Dropout(0.25)(x)\r\n",
        "\r\n",
        "  #Use GlobalAveragePooling2D to replace flatten\r\n",
        "  x = GlobalAveragePooling2D()(x)\r\n",
        "  x = Reshape(1,1,x._keras_shape[1])(x) if data_format == 'channels_first' else x\r\n",
        "    \r\n",
        "  x = _fc_bn_act(units=256, activation = activation)(x)\r\n",
        "  x = Dropout(0.25)(x)\r\n",
        "  x = _fc_bn_act(units=128, activation = activation)(x)\r\n",
        "  \r\n",
        "  output_layer = Dense(units = output_units, activation=\"softmax\", kernel_initializer=\"he_normal\")(x)\r\n",
        "\r\n",
        "  model = keras.models.Model(inputs = [input_layer], outputs = [output_layer])\r\n",
        "  return model"
      ],
      "outputs": [],
      "metadata": {
        "id": "FnkQuwrMyckz",
        "colab_type": "code",
        "colab": {}
      }
    },
    {
      "cell_type": "code",
      "execution_count": null,
      "source": [
        "batch_size = 128\r\n",
        "lr = 1e-3\r\n",
        "epochs = 20\r\n",
        "optimizer = keras.optimizers.Adam(lr=lr)\r\n",
        "loss = \"categorical_crossentropy\"\r\n",
        "metric = ['accuracy']\r\n",
        "\r\n",
        "steps_per_epoch = len(x_train) // batch_size\r\n",
        "validation_steps = len(x_test) // batch_size"
      ],
      "outputs": [],
      "metadata": {
        "id": "kUBkrRZZtmzf",
        "colab_type": "code",
        "colab": {}
      }
    },
    {
      "cell_type": "code",
      "execution_count": null,
      "source": [
        "def input_generator(x,y,aug,batch_size):\r\n",
        "\r\n",
        "  x_len = len(x)\r\n",
        "  batch_x, batch_y = [],[]\r\n",
        "  while True:\r\n",
        "\r\n",
        "    batch_indices = np.random.choice(x_len, size = batch_size)\r\n",
        "    \r\n",
        "    for idx in batch_indices:\r\n",
        "      batch_y.append(y[idx])\r\n",
        "      batch_x.append(aug(image = x[idx])['image']/255.0)\r\n",
        "\r\n",
        "    batch_x, batch_y = np.stack(batch_x), np.stack(batch_y)\r\n",
        "    yield batch_x, batch_y\r\n",
        "    batch_x, batch_y = [],[]\r\n",
        "  \r\n",
        "aug_for_train = albu.Compose([HorizontalFlip(p=0.5),\r\n",
        "                              ShiftScaleRotate(shift_limit=0.1,scale_limit=0.25,rotate_limit=20,p=0.5),\r\n",
        "                              GridDistortion(p=0.5)])\r\n",
        "aug_for_valid = albu.Compose([])\r\n",
        "\r\n",
        "train_gen = input_generator(x_train, y_train, aug_for_train, batch_size)\r\n",
        "valid_gen = input_generator(x_test, y_test, aug_for_valid, batch_size)"
      ],
      "outputs": [],
      "metadata": {
        "id": "I5Q_YFr7zSn9",
        "colab_type": "code",
        "colab": {}
      }
    },
    {
      "cell_type": "code",
      "execution_count": null,
      "source": [
        "def display_training_result(history):\r\n",
        "\r\n",
        "  plt.figure(figsize=(16,12))\r\n",
        "\r\n",
        "  plt.subplot(2,1,1)\r\n",
        "  plt.plot(history.history['loss'], label = 'train_loss', color = 'g')\r\n",
        "  plt.plot(history.history['val_loss'], label = 'valid_loss', color = 'r')\r\n",
        "  plt.title('training/validation loss')\r\n",
        "  plt.xlabel('epoch')\r\n",
        "  plt.ylabel('loss')\r\n",
        "  plt.legend()\r\n",
        "\r\n",
        "  plt.subplot(2,1,2)\r\n",
        "  plt.plot(history.history['acc'], label = 'train_acc', color = 'g')\r\n",
        "  plt.plot(history.history['val_acc'], label = 'valid_acc', color = 'r')\r\n",
        "  plt.title('training/validation accuracy')\r\n",
        "  plt.xlabel('epoch')\r\n",
        "  plt.ylabel('accuracy')\r\n",
        "  plt.legend()\r\n",
        "\r\n",
        "  plt.show()"
      ],
      "outputs": [],
      "metadata": {
        "id": "dI713vL-23Ep",
        "colab_type": "code",
        "colab": {}
      }
    },
    {
      "cell_type": "code",
      "execution_count": null,
      "source": [
        "# Build the regular Convolution neural network\r\n",
        "regular_cnn = CNN()\r\n",
        "regular_cnn.compile(loss = loss, metrics = metric, optimizer = optimizer)\r\n",
        "regular_cnn.summary()"
      ],
      "outputs": [],
      "metadata": {
        "id": "G0vHZkz-4BNz",
        "colab_type": "code",
        "outputId": "615afa60-f2f0-4071-8866-3648acc916e4",
        "colab": {
          "base_uri": "https://localhost:8080/",
          "height": 1000
        }
      }
    },
    {
      "cell_type": "code",
      "execution_count": null,
      "source": [
        "regular_cnn_history = regular_cnn.fit_generator(generator=train_gen, steps_per_epoch=steps_per_epoch, epochs=epochs, \r\n",
        "                                                validation_data=valid_gen, validation_steps=validation_steps)"
      ],
      "outputs": [],
      "metadata": {
        "id": "uYVAfvFo4eDP",
        "colab_type": "code",
        "outputId": "80b1547b-5494-40a5-e07b-e14420e9fe29",
        "colab": {
          "base_uri": "https://localhost:8080/",
          "height": 794
        }
      }
    },
    {
      "cell_type": "code",
      "execution_count": null,
      "source": [
        "# Build the convolution neural network with SE block in it\r\n",
        "SE_cnn = CNN(SE_flag = True)\r\n",
        "SE_cnn.compile(loss = loss, metrics = metric, optimizer = optimizer)\r\n",
        "SE_cnn.summary()"
      ],
      "outputs": [],
      "metadata": {
        "id": "7UXvFv7T822c",
        "colab_type": "code",
        "colab": {
          "base_uri": "https://localhost:8080/",
          "height": 1000
        },
        "outputId": "36f6a1ed-110f-401f-cd5f-775b1fdadf05"
      }
    },
    {
      "cell_type": "code",
      "execution_count": null,
      "source": [
        "SE_cnn_history = SE_cnn.fit_generator(generator=train_gen, steps_per_epoch=steps_per_epoch, epochs=epochs, \r\n",
        "                                                validation_data=valid_gen, validation_steps=validation_steps)"
      ],
      "outputs": [],
      "metadata": {
        "id": "kMNkWZsD-DZK",
        "colab_type": "code",
        "colab": {
          "base_uri": "https://localhost:8080/",
          "height": 721
        },
        "outputId": "d19a96a2-0891-48e8-9b09-1c8a0fc548d1"
      }
    },
    {
      "cell_type": "code",
      "execution_count": null,
      "source": [
        "display_training_result(regular_cnn_history)"
      ],
      "outputs": [],
      "metadata": {
        "id": "EMJ_ms-4-PLv",
        "colab_type": "code",
        "colab": {
          "base_uri": "https://localhost:8080/",
          "height": 730
        },
        "outputId": "a0bc3af5-21b6-4360-cfa8-4854aed03f80"
      }
    },
    {
      "cell_type": "code",
      "execution_count": null,
      "source": [
        "display_training_result(SE_cnn_history)"
      ],
      "outputs": [],
      "metadata": {
        "id": "lrw5G_bJ-T3S",
        "colab_type": "code",
        "colab": {
          "base_uri": "https://localhost:8080/",
          "height": 730
        },
        "outputId": "c77d7537-5f57-4a77-9df7-08c2cdb2a762"
      }
    },
    {
      "cell_type": "code",
      "execution_count": null,
      "source": [
        "regular_cnn_scores = regular_cnn.evaluate(x=x_test/255.0, y=y_test)\r\n",
        "SE_cnn_scores = SE_cnn.evaluate(x=x_test/255.0, y=y_test)"
      ],
      "outputs": [],
      "metadata": {
        "id": "d6qT7b2wAwg3",
        "colab_type": "code",
        "colab": {
          "base_uri": "https://localhost:8080/",
          "height": 52
        },
        "outputId": "22c78c6e-38bd-4965-a49b-c1003959b3d4"
      }
    },
    {
      "cell_type": "code",
      "execution_count": null,
      "source": [
        "print(f' Regular CNN :  loss {regular_cnn_scores[0]}, accuracy {regular_cnn_scores[1]}')\r\n",
        "print(f' SE CNN : loss {SE_cnn_scores[0]}, accruacy {SE_cnn_scores[1]}')"
      ],
      "outputs": [],
      "metadata": {
        "id": "Ta-N5BAZBF90",
        "colab_type": "code",
        "colab": {
          "base_uri": "https://localhost:8080/",
          "height": 52
        },
        "outputId": "5b9ad3db-2613-40d6-de84-d0c0cbc60faf"
      }
    },
    {
      "cell_type": "code",
      "execution_count": null,
      "source": [],
      "outputs": [],
      "metadata": {
        "id": "WF177SqgBIic",
        "colab_type": "code",
        "colab": {}
      }
    }
  ]
}