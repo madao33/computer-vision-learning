{
  "nbformat": 4,
  "nbformat_minor": 2,
  "metadata": {
    "orig_nbformat": 4,
    "language_info": {
      "name": "python",
      "version": "3.6.2",
      "mimetype": "text/x-python",
      "codemirror_mode": {
        "name": "ipython",
        "version": 3
      },
      "pygments_lexer": "ipython3",
      "nbconvert_exporter": "python",
      "file_extension": ".py"
    },
    "kernelspec": {
      "name": "python3",
      "display_name": "Python 3.6.2 64-bit ('python3.6env': conda)"
    },
    "interpreter": {
      "hash": "7835acacaeaf508b921ecd27357232a38d5f7dc52657613320ee88843bc3a5f4"
    },
    "colab": {
      "name": "AlexNet-MNIST.ipynb",
      "provenance": [],
      "collapsed_sections": []
    },
    "accelerator": "GPU",
    "widgets": {
      "application/vnd.jupyter.widget-state+json": {
        "f496581dc75e438bae94b3b677c6325e": {
          "model_module": "@jupyter-widgets/controls",
          "model_name": "HBoxModel",
          "state": {
            "_view_name": "HBoxView",
            "_dom_classes": [],
            "_model_name": "HBoxModel",
            "_view_module": "@jupyter-widgets/controls",
            "_model_module_version": "1.5.0",
            "_view_count": null,
            "_view_module_version": "1.5.0",
            "box_style": "",
            "layout": "IPY_MODEL_e766732e33574fcd82ee7702af6c9c25",
            "_model_module": "@jupyter-widgets/controls",
            "children": [
              "IPY_MODEL_fb957c51343e4251889e0878290dd49e",
              "IPY_MODEL_288fbdbaa53a43eaaa1387189707e308"
            ]
          }
        },
        "e766732e33574fcd82ee7702af6c9c25": {
          "model_module": "@jupyter-widgets/base",
          "model_name": "LayoutModel",
          "state": {
            "_view_name": "LayoutView",
            "grid_template_rows": null,
            "right": null,
            "justify_content": null,
            "_view_module": "@jupyter-widgets/base",
            "overflow": null,
            "_model_module_version": "1.2.0",
            "_view_count": null,
            "flex_flow": null,
            "width": null,
            "min_width": null,
            "border": null,
            "align_items": null,
            "bottom": null,
            "_model_module": "@jupyter-widgets/base",
            "top": null,
            "grid_column": null,
            "overflow_y": null,
            "overflow_x": null,
            "grid_auto_flow": null,
            "grid_area": null,
            "grid_template_columns": null,
            "flex": null,
            "_model_name": "LayoutModel",
            "justify_items": null,
            "grid_row": null,
            "max_height": null,
            "align_content": null,
            "visibility": null,
            "align_self": null,
            "height": null,
            "min_height": null,
            "padding": null,
            "grid_auto_rows": null,
            "grid_gap": null,
            "max_width": null,
            "order": null,
            "_view_module_version": "1.2.0",
            "grid_template_areas": null,
            "object_position": null,
            "object_fit": null,
            "grid_auto_columns": null,
            "margin": null,
            "display": null,
            "left": null
          }
        },
        "fb957c51343e4251889e0878290dd49e": {
          "model_module": "@jupyter-widgets/controls",
          "model_name": "FloatProgressModel",
          "state": {
            "_view_name": "ProgressView",
            "style": "IPY_MODEL_0c11dc526f7a403e8abdbc86247e1c74",
            "_dom_classes": [],
            "description": "",
            "_model_name": "FloatProgressModel",
            "bar_style": "success",
            "max": 9912422,
            "_view_module": "@jupyter-widgets/controls",
            "_model_module_version": "1.5.0",
            "value": 9912422,
            "_view_count": null,
            "_view_module_version": "1.5.0",
            "orientation": "horizontal",
            "min": 0,
            "description_tooltip": null,
            "_model_module": "@jupyter-widgets/controls",
            "layout": "IPY_MODEL_7c2bb00e284b4e1c9d31ad42b2414698"
          }
        },
        "288fbdbaa53a43eaaa1387189707e308": {
          "model_module": "@jupyter-widgets/controls",
          "model_name": "HTMLModel",
          "state": {
            "_view_name": "HTMLView",
            "style": "IPY_MODEL_f80b4e31d2074894bbe5b90e45ee8620",
            "_dom_classes": [],
            "description": "",
            "_model_name": "HTMLModel",
            "placeholder": "​",
            "_view_module": "@jupyter-widgets/controls",
            "_model_module_version": "1.5.0",
            "value": " 9913344/? [00:20&lt;00:00, 479553.29it/s]",
            "_view_count": null,
            "_view_module_version": "1.5.0",
            "description_tooltip": null,
            "_model_module": "@jupyter-widgets/controls",
            "layout": "IPY_MODEL_6883421225184540ac02cb99abb1b6b2"
          }
        },
        "0c11dc526f7a403e8abdbc86247e1c74": {
          "model_module": "@jupyter-widgets/controls",
          "model_name": "ProgressStyleModel",
          "state": {
            "_view_name": "StyleView",
            "_model_name": "ProgressStyleModel",
            "description_width": "initial",
            "_view_module": "@jupyter-widgets/base",
            "_model_module_version": "1.5.0",
            "_view_count": null,
            "_view_module_version": "1.2.0",
            "bar_color": null,
            "_model_module": "@jupyter-widgets/controls"
          }
        },
        "7c2bb00e284b4e1c9d31ad42b2414698": {
          "model_module": "@jupyter-widgets/base",
          "model_name": "LayoutModel",
          "state": {
            "_view_name": "LayoutView",
            "grid_template_rows": null,
            "right": null,
            "justify_content": null,
            "_view_module": "@jupyter-widgets/base",
            "overflow": null,
            "_model_module_version": "1.2.0",
            "_view_count": null,
            "flex_flow": null,
            "width": null,
            "min_width": null,
            "border": null,
            "align_items": null,
            "bottom": null,
            "_model_module": "@jupyter-widgets/base",
            "top": null,
            "grid_column": null,
            "overflow_y": null,
            "overflow_x": null,
            "grid_auto_flow": null,
            "grid_area": null,
            "grid_template_columns": null,
            "flex": null,
            "_model_name": "LayoutModel",
            "justify_items": null,
            "grid_row": null,
            "max_height": null,
            "align_content": null,
            "visibility": null,
            "align_self": null,
            "height": null,
            "min_height": null,
            "padding": null,
            "grid_auto_rows": null,
            "grid_gap": null,
            "max_width": null,
            "order": null,
            "_view_module_version": "1.2.0",
            "grid_template_areas": null,
            "object_position": null,
            "object_fit": null,
            "grid_auto_columns": null,
            "margin": null,
            "display": null,
            "left": null
          }
        },
        "f80b4e31d2074894bbe5b90e45ee8620": {
          "model_module": "@jupyter-widgets/controls",
          "model_name": "DescriptionStyleModel",
          "state": {
            "_view_name": "StyleView",
            "_model_name": "DescriptionStyleModel",
            "description_width": "",
            "_view_module": "@jupyter-widgets/base",
            "_model_module_version": "1.5.0",
            "_view_count": null,
            "_view_module_version": "1.2.0",
            "_model_module": "@jupyter-widgets/controls"
          }
        },
        "6883421225184540ac02cb99abb1b6b2": {
          "model_module": "@jupyter-widgets/base",
          "model_name": "LayoutModel",
          "state": {
            "_view_name": "LayoutView",
            "grid_template_rows": null,
            "right": null,
            "justify_content": null,
            "_view_module": "@jupyter-widgets/base",
            "overflow": null,
            "_model_module_version": "1.2.0",
            "_view_count": null,
            "flex_flow": null,
            "width": null,
            "min_width": null,
            "border": null,
            "align_items": null,
            "bottom": null,
            "_model_module": "@jupyter-widgets/base",
            "top": null,
            "grid_column": null,
            "overflow_y": null,
            "overflow_x": null,
            "grid_auto_flow": null,
            "grid_area": null,
            "grid_template_columns": null,
            "flex": null,
            "_model_name": "LayoutModel",
            "justify_items": null,
            "grid_row": null,
            "max_height": null,
            "align_content": null,
            "visibility": null,
            "align_self": null,
            "height": null,
            "min_height": null,
            "padding": null,
            "grid_auto_rows": null,
            "grid_gap": null,
            "max_width": null,
            "order": null,
            "_view_module_version": "1.2.0",
            "grid_template_areas": null,
            "object_position": null,
            "object_fit": null,
            "grid_auto_columns": null,
            "margin": null,
            "display": null,
            "left": null
          }
        },
        "2b0bac722dde4bb08cbfd548a4261f8f": {
          "model_module": "@jupyter-widgets/controls",
          "model_name": "HBoxModel",
          "state": {
            "_view_name": "HBoxView",
            "_dom_classes": [],
            "_model_name": "HBoxModel",
            "_view_module": "@jupyter-widgets/controls",
            "_model_module_version": "1.5.0",
            "_view_count": null,
            "_view_module_version": "1.5.0",
            "box_style": "",
            "layout": "IPY_MODEL_48e7cc6beb5c41eabcea56c4ee6b6758",
            "_model_module": "@jupyter-widgets/controls",
            "children": [
              "IPY_MODEL_863e7a75b2a842a8811bb9fbce18941f",
              "IPY_MODEL_b7992f646e8843ae987bd60cb640be96"
            ]
          }
        },
        "48e7cc6beb5c41eabcea56c4ee6b6758": {
          "model_module": "@jupyter-widgets/base",
          "model_name": "LayoutModel",
          "state": {
            "_view_name": "LayoutView",
            "grid_template_rows": null,
            "right": null,
            "justify_content": null,
            "_view_module": "@jupyter-widgets/base",
            "overflow": null,
            "_model_module_version": "1.2.0",
            "_view_count": null,
            "flex_flow": null,
            "width": null,
            "min_width": null,
            "border": null,
            "align_items": null,
            "bottom": null,
            "_model_module": "@jupyter-widgets/base",
            "top": null,
            "grid_column": null,
            "overflow_y": null,
            "overflow_x": null,
            "grid_auto_flow": null,
            "grid_area": null,
            "grid_template_columns": null,
            "flex": null,
            "_model_name": "LayoutModel",
            "justify_items": null,
            "grid_row": null,
            "max_height": null,
            "align_content": null,
            "visibility": null,
            "align_self": null,
            "height": null,
            "min_height": null,
            "padding": null,
            "grid_auto_rows": null,
            "grid_gap": null,
            "max_width": null,
            "order": null,
            "_view_module_version": "1.2.0",
            "grid_template_areas": null,
            "object_position": null,
            "object_fit": null,
            "grid_auto_columns": null,
            "margin": null,
            "display": null,
            "left": null
          }
        },
        "863e7a75b2a842a8811bb9fbce18941f": {
          "model_module": "@jupyter-widgets/controls",
          "model_name": "FloatProgressModel",
          "state": {
            "_view_name": "ProgressView",
            "style": "IPY_MODEL_47c0eb5ea2a44ba1a21e0288e5d90487",
            "_dom_classes": [],
            "description": "",
            "_model_name": "FloatProgressModel",
            "bar_style": "success",
            "max": 28881,
            "_view_module": "@jupyter-widgets/controls",
            "_model_module_version": "1.5.0",
            "value": 28881,
            "_view_count": null,
            "_view_module_version": "1.5.0",
            "orientation": "horizontal",
            "min": 0,
            "description_tooltip": null,
            "_model_module": "@jupyter-widgets/controls",
            "layout": "IPY_MODEL_ace4fc9f60814533824a24b463e9091e"
          }
        },
        "b7992f646e8843ae987bd60cb640be96": {
          "model_module": "@jupyter-widgets/controls",
          "model_name": "HTMLModel",
          "state": {
            "_view_name": "HTMLView",
            "style": "IPY_MODEL_ea4e4df877ca4e7a90ce9d79b541d17e",
            "_dom_classes": [],
            "description": "",
            "_model_name": "HTMLModel",
            "placeholder": "​",
            "_view_module": "@jupyter-widgets/controls",
            "_model_module_version": "1.5.0",
            "value": " 29696/? [00:00&lt;00:00, 335298.63it/s]",
            "_view_count": null,
            "_view_module_version": "1.5.0",
            "description_tooltip": null,
            "_model_module": "@jupyter-widgets/controls",
            "layout": "IPY_MODEL_6a187926d2ac4d4aa146c4763d7bdcda"
          }
        },
        "47c0eb5ea2a44ba1a21e0288e5d90487": {
          "model_module": "@jupyter-widgets/controls",
          "model_name": "ProgressStyleModel",
          "state": {
            "_view_name": "StyleView",
            "_model_name": "ProgressStyleModel",
            "description_width": "initial",
            "_view_module": "@jupyter-widgets/base",
            "_model_module_version": "1.5.0",
            "_view_count": null,
            "_view_module_version": "1.2.0",
            "bar_color": null,
            "_model_module": "@jupyter-widgets/controls"
          }
        },
        "ace4fc9f60814533824a24b463e9091e": {
          "model_module": "@jupyter-widgets/base",
          "model_name": "LayoutModel",
          "state": {
            "_view_name": "LayoutView",
            "grid_template_rows": null,
            "right": null,
            "justify_content": null,
            "_view_module": "@jupyter-widgets/base",
            "overflow": null,
            "_model_module_version": "1.2.0",
            "_view_count": null,
            "flex_flow": null,
            "width": null,
            "min_width": null,
            "border": null,
            "align_items": null,
            "bottom": null,
            "_model_module": "@jupyter-widgets/base",
            "top": null,
            "grid_column": null,
            "overflow_y": null,
            "overflow_x": null,
            "grid_auto_flow": null,
            "grid_area": null,
            "grid_template_columns": null,
            "flex": null,
            "_model_name": "LayoutModel",
            "justify_items": null,
            "grid_row": null,
            "max_height": null,
            "align_content": null,
            "visibility": null,
            "align_self": null,
            "height": null,
            "min_height": null,
            "padding": null,
            "grid_auto_rows": null,
            "grid_gap": null,
            "max_width": null,
            "order": null,
            "_view_module_version": "1.2.0",
            "grid_template_areas": null,
            "object_position": null,
            "object_fit": null,
            "grid_auto_columns": null,
            "margin": null,
            "display": null,
            "left": null
          }
        },
        "ea4e4df877ca4e7a90ce9d79b541d17e": {
          "model_module": "@jupyter-widgets/controls",
          "model_name": "DescriptionStyleModel",
          "state": {
            "_view_name": "StyleView",
            "_model_name": "DescriptionStyleModel",
            "description_width": "",
            "_view_module": "@jupyter-widgets/base",
            "_model_module_version": "1.5.0",
            "_view_count": null,
            "_view_module_version": "1.2.0",
            "_model_module": "@jupyter-widgets/controls"
          }
        },
        "6a187926d2ac4d4aa146c4763d7bdcda": {
          "model_module": "@jupyter-widgets/base",
          "model_name": "LayoutModel",
          "state": {
            "_view_name": "LayoutView",
            "grid_template_rows": null,
            "right": null,
            "justify_content": null,
            "_view_module": "@jupyter-widgets/base",
            "overflow": null,
            "_model_module_version": "1.2.0",
            "_view_count": null,
            "flex_flow": null,
            "width": null,
            "min_width": null,
            "border": null,
            "align_items": null,
            "bottom": null,
            "_model_module": "@jupyter-widgets/base",
            "top": null,
            "grid_column": null,
            "overflow_y": null,
            "overflow_x": null,
            "grid_auto_flow": null,
            "grid_area": null,
            "grid_template_columns": null,
            "flex": null,
            "_model_name": "LayoutModel",
            "justify_items": null,
            "grid_row": null,
            "max_height": null,
            "align_content": null,
            "visibility": null,
            "align_self": null,
            "height": null,
            "min_height": null,
            "padding": null,
            "grid_auto_rows": null,
            "grid_gap": null,
            "max_width": null,
            "order": null,
            "_view_module_version": "1.2.0",
            "grid_template_areas": null,
            "object_position": null,
            "object_fit": null,
            "grid_auto_columns": null,
            "margin": null,
            "display": null,
            "left": null
          }
        },
        "73478b8332214d5c849a6c77a3460e02": {
          "model_module": "@jupyter-widgets/controls",
          "model_name": "HBoxModel",
          "state": {
            "_view_name": "HBoxView",
            "_dom_classes": [],
            "_model_name": "HBoxModel",
            "_view_module": "@jupyter-widgets/controls",
            "_model_module_version": "1.5.0",
            "_view_count": null,
            "_view_module_version": "1.5.0",
            "box_style": "",
            "layout": "IPY_MODEL_49dff71843454ffb997e0028a6daa533",
            "_model_module": "@jupyter-widgets/controls",
            "children": [
              "IPY_MODEL_e6b76ba979904a62957b7800df0beaf3",
              "IPY_MODEL_6b9fecd3369e4caabdfc2bd0bb276d04"
            ]
          }
        },
        "49dff71843454ffb997e0028a6daa533": {
          "model_module": "@jupyter-widgets/base",
          "model_name": "LayoutModel",
          "state": {
            "_view_name": "LayoutView",
            "grid_template_rows": null,
            "right": null,
            "justify_content": null,
            "_view_module": "@jupyter-widgets/base",
            "overflow": null,
            "_model_module_version": "1.2.0",
            "_view_count": null,
            "flex_flow": null,
            "width": null,
            "min_width": null,
            "border": null,
            "align_items": null,
            "bottom": null,
            "_model_module": "@jupyter-widgets/base",
            "top": null,
            "grid_column": null,
            "overflow_y": null,
            "overflow_x": null,
            "grid_auto_flow": null,
            "grid_area": null,
            "grid_template_columns": null,
            "flex": null,
            "_model_name": "LayoutModel",
            "justify_items": null,
            "grid_row": null,
            "max_height": null,
            "align_content": null,
            "visibility": null,
            "align_self": null,
            "height": null,
            "min_height": null,
            "padding": null,
            "grid_auto_rows": null,
            "grid_gap": null,
            "max_width": null,
            "order": null,
            "_view_module_version": "1.2.0",
            "grid_template_areas": null,
            "object_position": null,
            "object_fit": null,
            "grid_auto_columns": null,
            "margin": null,
            "display": null,
            "left": null
          }
        },
        "e6b76ba979904a62957b7800df0beaf3": {
          "model_module": "@jupyter-widgets/controls",
          "model_name": "FloatProgressModel",
          "state": {
            "_view_name": "ProgressView",
            "style": "IPY_MODEL_43ce0f22c69546e180a8164d6d566fe5",
            "_dom_classes": [],
            "description": "",
            "_model_name": "FloatProgressModel",
            "bar_style": "success",
            "max": 1648877,
            "_view_module": "@jupyter-widgets/controls",
            "_model_module_version": "1.5.0",
            "value": 1648877,
            "_view_count": null,
            "_view_module_version": "1.5.0",
            "orientation": "horizontal",
            "min": 0,
            "description_tooltip": null,
            "_model_module": "@jupyter-widgets/controls",
            "layout": "IPY_MODEL_004b4d662e204d4ab28d605676f7bc0e"
          }
        },
        "6b9fecd3369e4caabdfc2bd0bb276d04": {
          "model_module": "@jupyter-widgets/controls",
          "model_name": "HTMLModel",
          "state": {
            "_view_name": "HTMLView",
            "style": "IPY_MODEL_cce1cd20d22e4c4097b7f9e2102a299c",
            "_dom_classes": [],
            "description": "",
            "_model_name": "HTMLModel",
            "placeholder": "​",
            "_view_module": "@jupyter-widgets/controls",
            "_model_module_version": "1.5.0",
            "value": " 1649664/? [00:05&lt;00:00, 278425.71it/s]",
            "_view_count": null,
            "_view_module_version": "1.5.0",
            "description_tooltip": null,
            "_model_module": "@jupyter-widgets/controls",
            "layout": "IPY_MODEL_b3670df4a79845f3aa61ab0cd27b5a73"
          }
        },
        "43ce0f22c69546e180a8164d6d566fe5": {
          "model_module": "@jupyter-widgets/controls",
          "model_name": "ProgressStyleModel",
          "state": {
            "_view_name": "StyleView",
            "_model_name": "ProgressStyleModel",
            "description_width": "initial",
            "_view_module": "@jupyter-widgets/base",
            "_model_module_version": "1.5.0",
            "_view_count": null,
            "_view_module_version": "1.2.0",
            "bar_color": null,
            "_model_module": "@jupyter-widgets/controls"
          }
        },
        "004b4d662e204d4ab28d605676f7bc0e": {
          "model_module": "@jupyter-widgets/base",
          "model_name": "LayoutModel",
          "state": {
            "_view_name": "LayoutView",
            "grid_template_rows": null,
            "right": null,
            "justify_content": null,
            "_view_module": "@jupyter-widgets/base",
            "overflow": null,
            "_model_module_version": "1.2.0",
            "_view_count": null,
            "flex_flow": null,
            "width": null,
            "min_width": null,
            "border": null,
            "align_items": null,
            "bottom": null,
            "_model_module": "@jupyter-widgets/base",
            "top": null,
            "grid_column": null,
            "overflow_y": null,
            "overflow_x": null,
            "grid_auto_flow": null,
            "grid_area": null,
            "grid_template_columns": null,
            "flex": null,
            "_model_name": "LayoutModel",
            "justify_items": null,
            "grid_row": null,
            "max_height": null,
            "align_content": null,
            "visibility": null,
            "align_self": null,
            "height": null,
            "min_height": null,
            "padding": null,
            "grid_auto_rows": null,
            "grid_gap": null,
            "max_width": null,
            "order": null,
            "_view_module_version": "1.2.0",
            "grid_template_areas": null,
            "object_position": null,
            "object_fit": null,
            "grid_auto_columns": null,
            "margin": null,
            "display": null,
            "left": null
          }
        },
        "cce1cd20d22e4c4097b7f9e2102a299c": {
          "model_module": "@jupyter-widgets/controls",
          "model_name": "DescriptionStyleModel",
          "state": {
            "_view_name": "StyleView",
            "_model_name": "DescriptionStyleModel",
            "description_width": "",
            "_view_module": "@jupyter-widgets/base",
            "_model_module_version": "1.5.0",
            "_view_count": null,
            "_view_module_version": "1.2.0",
            "_model_module": "@jupyter-widgets/controls"
          }
        },
        "b3670df4a79845f3aa61ab0cd27b5a73": {
          "model_module": "@jupyter-widgets/base",
          "model_name": "LayoutModel",
          "state": {
            "_view_name": "LayoutView",
            "grid_template_rows": null,
            "right": null,
            "justify_content": null,
            "_view_module": "@jupyter-widgets/base",
            "overflow": null,
            "_model_module_version": "1.2.0",
            "_view_count": null,
            "flex_flow": null,
            "width": null,
            "min_width": null,
            "border": null,
            "align_items": null,
            "bottom": null,
            "_model_module": "@jupyter-widgets/base",
            "top": null,
            "grid_column": null,
            "overflow_y": null,
            "overflow_x": null,
            "grid_auto_flow": null,
            "grid_area": null,
            "grid_template_columns": null,
            "flex": null,
            "_model_name": "LayoutModel",
            "justify_items": null,
            "grid_row": null,
            "max_height": null,
            "align_content": null,
            "visibility": null,
            "align_self": null,
            "height": null,
            "min_height": null,
            "padding": null,
            "grid_auto_rows": null,
            "grid_gap": null,
            "max_width": null,
            "order": null,
            "_view_module_version": "1.2.0",
            "grid_template_areas": null,
            "object_position": null,
            "object_fit": null,
            "grid_auto_columns": null,
            "margin": null,
            "display": null,
            "left": null
          }
        },
        "c1dcfc7355be4e36afeaf1ab666fcbde": {
          "model_module": "@jupyter-widgets/controls",
          "model_name": "HBoxModel",
          "state": {
            "_view_name": "HBoxView",
            "_dom_classes": [],
            "_model_name": "HBoxModel",
            "_view_module": "@jupyter-widgets/controls",
            "_model_module_version": "1.5.0",
            "_view_count": null,
            "_view_module_version": "1.5.0",
            "box_style": "",
            "layout": "IPY_MODEL_5f8a8474c74e43c58e8f3104dc21d08a",
            "_model_module": "@jupyter-widgets/controls",
            "children": [
              "IPY_MODEL_a9bdba53e0de464cb5afc32219ce5771",
              "IPY_MODEL_094390a527f4433abcc13a5e58e71552"
            ]
          }
        },
        "5f8a8474c74e43c58e8f3104dc21d08a": {
          "model_module": "@jupyter-widgets/base",
          "model_name": "LayoutModel",
          "state": {
            "_view_name": "LayoutView",
            "grid_template_rows": null,
            "right": null,
            "justify_content": null,
            "_view_module": "@jupyter-widgets/base",
            "overflow": null,
            "_model_module_version": "1.2.0",
            "_view_count": null,
            "flex_flow": null,
            "width": null,
            "min_width": null,
            "border": null,
            "align_items": null,
            "bottom": null,
            "_model_module": "@jupyter-widgets/base",
            "top": null,
            "grid_column": null,
            "overflow_y": null,
            "overflow_x": null,
            "grid_auto_flow": null,
            "grid_area": null,
            "grid_template_columns": null,
            "flex": null,
            "_model_name": "LayoutModel",
            "justify_items": null,
            "grid_row": null,
            "max_height": null,
            "align_content": null,
            "visibility": null,
            "align_self": null,
            "height": null,
            "min_height": null,
            "padding": null,
            "grid_auto_rows": null,
            "grid_gap": null,
            "max_width": null,
            "order": null,
            "_view_module_version": "1.2.0",
            "grid_template_areas": null,
            "object_position": null,
            "object_fit": null,
            "grid_auto_columns": null,
            "margin": null,
            "display": null,
            "left": null
          }
        },
        "a9bdba53e0de464cb5afc32219ce5771": {
          "model_module": "@jupyter-widgets/controls",
          "model_name": "FloatProgressModel",
          "state": {
            "_view_name": "ProgressView",
            "style": "IPY_MODEL_a9e3f88cdc7c4c2982a7331ab3c3ae1a",
            "_dom_classes": [],
            "description": "",
            "_model_name": "FloatProgressModel",
            "bar_style": "success",
            "max": 4542,
            "_view_module": "@jupyter-widgets/controls",
            "_model_module_version": "1.5.0",
            "value": 4542,
            "_view_count": null,
            "_view_module_version": "1.5.0",
            "orientation": "horizontal",
            "min": 0,
            "description_tooltip": null,
            "_model_module": "@jupyter-widgets/controls",
            "layout": "IPY_MODEL_3620391f8c9042faa736dc62c5788c41"
          }
        },
        "094390a527f4433abcc13a5e58e71552": {
          "model_module": "@jupyter-widgets/controls",
          "model_name": "HTMLModel",
          "state": {
            "_view_name": "HTMLView",
            "style": "IPY_MODEL_bf49d545ec074b3b9e73d7a513dc051d",
            "_dom_classes": [],
            "description": "",
            "_model_name": "HTMLModel",
            "placeholder": "​",
            "_view_module": "@jupyter-widgets/controls",
            "_model_module_version": "1.5.0",
            "value": " 5120/? [00:00&lt;00:00, 13692.41it/s]",
            "_view_count": null,
            "_view_module_version": "1.5.0",
            "description_tooltip": null,
            "_model_module": "@jupyter-widgets/controls",
            "layout": "IPY_MODEL_1227819205604f7498b19ccb24ed7812"
          }
        },
        "a9e3f88cdc7c4c2982a7331ab3c3ae1a": {
          "model_module": "@jupyter-widgets/controls",
          "model_name": "ProgressStyleModel",
          "state": {
            "_view_name": "StyleView",
            "_model_name": "ProgressStyleModel",
            "description_width": "initial",
            "_view_module": "@jupyter-widgets/base",
            "_model_module_version": "1.5.0",
            "_view_count": null,
            "_view_module_version": "1.2.0",
            "bar_color": null,
            "_model_module": "@jupyter-widgets/controls"
          }
        },
        "3620391f8c9042faa736dc62c5788c41": {
          "model_module": "@jupyter-widgets/base",
          "model_name": "LayoutModel",
          "state": {
            "_view_name": "LayoutView",
            "grid_template_rows": null,
            "right": null,
            "justify_content": null,
            "_view_module": "@jupyter-widgets/base",
            "overflow": null,
            "_model_module_version": "1.2.0",
            "_view_count": null,
            "flex_flow": null,
            "width": null,
            "min_width": null,
            "border": null,
            "align_items": null,
            "bottom": null,
            "_model_module": "@jupyter-widgets/base",
            "top": null,
            "grid_column": null,
            "overflow_y": null,
            "overflow_x": null,
            "grid_auto_flow": null,
            "grid_area": null,
            "grid_template_columns": null,
            "flex": null,
            "_model_name": "LayoutModel",
            "justify_items": null,
            "grid_row": null,
            "max_height": null,
            "align_content": null,
            "visibility": null,
            "align_self": null,
            "height": null,
            "min_height": null,
            "padding": null,
            "grid_auto_rows": null,
            "grid_gap": null,
            "max_width": null,
            "order": null,
            "_view_module_version": "1.2.0",
            "grid_template_areas": null,
            "object_position": null,
            "object_fit": null,
            "grid_auto_columns": null,
            "margin": null,
            "display": null,
            "left": null
          }
        },
        "bf49d545ec074b3b9e73d7a513dc051d": {
          "model_module": "@jupyter-widgets/controls",
          "model_name": "DescriptionStyleModel",
          "state": {
            "_view_name": "StyleView",
            "_model_name": "DescriptionStyleModel",
            "description_width": "",
            "_view_module": "@jupyter-widgets/base",
            "_model_module_version": "1.5.0",
            "_view_count": null,
            "_view_module_version": "1.2.0",
            "_model_module": "@jupyter-widgets/controls"
          }
        },
        "1227819205604f7498b19ccb24ed7812": {
          "model_module": "@jupyter-widgets/base",
          "model_name": "LayoutModel",
          "state": {
            "_view_name": "LayoutView",
            "grid_template_rows": null,
            "right": null,
            "justify_content": null,
            "_view_module": "@jupyter-widgets/base",
            "overflow": null,
            "_model_module_version": "1.2.0",
            "_view_count": null,
            "flex_flow": null,
            "width": null,
            "min_width": null,
            "border": null,
            "align_items": null,
            "bottom": null,
            "_model_module": "@jupyter-widgets/base",
            "top": null,
            "grid_column": null,
            "overflow_y": null,
            "overflow_x": null,
            "grid_auto_flow": null,
            "grid_area": null,
            "grid_template_columns": null,
            "flex": null,
            "_model_name": "LayoutModel",
            "justify_items": null,
            "grid_row": null,
            "max_height": null,
            "align_content": null,
            "visibility": null,
            "align_self": null,
            "height": null,
            "min_height": null,
            "padding": null,
            "grid_auto_rows": null,
            "grid_gap": null,
            "max_width": null,
            "order": null,
            "_view_module_version": "1.2.0",
            "grid_template_areas": null,
            "object_position": null,
            "object_fit": null,
            "grid_auto_columns": null,
            "margin": null,
            "display": null,
            "left": null
          }
        }
      }
    }
  },
  "cells": [
    {
      "cell_type": "markdown",
      "source": [
        "# AlexNet代码实现\n",
        "\n",
        "鉴于原论文中使用的数据集过于庞大，分类过多，目前手头的设备运行是在过于缓慢，折中考虑尝试使用MNIST的数据集实现AlexNet"
      ],
      "metadata": {
        "id": "TrEdgzV9y4m9"
      }
    },
    {
      "cell_type": "code",
      "execution_count": 34,
      "source": [
        "import torch, torchvision\r\n",
        "import torchvision.transforms as transforms\r\n",
        "import torch.nn as nn\r\n",
        "from torch import optim\r\n",
        "import matplotlib.pyplot as plt\r\n",
        "%matplotlib inline\r\n",
        "import copy"
      ],
      "outputs": [],
      "metadata": {
        "id": "U0SfjSVCy4m_"
      }
    },
    {
      "cell_type": "code",
      "execution_count": 35,
      "source": [
        "# 超参数设置\r\n",
        "EPOCH = 10\r\n",
        "BATCH_SIZE = 64\r\n",
        "LR = 0.01"
      ],
      "outputs": [],
      "metadata": {
        "id": "dRE22eUPy4m_"
      }
    },
    {
      "cell_type": "code",
      "execution_count": 36,
      "source": [
        "transform = transforms.ToTensor()"
      ],
      "outputs": [],
      "metadata": {
        "id": "79vUbZGjy4nA"
      }
    },
    {
      "cell_type": "markdown",
      "source": [
        "## 数据集\n",
        "\n",
        "通过torchvision下载数据集"
      ],
      "metadata": {
        "id": "0GDBBXvgy4nA"
      }
    },
    {
      "cell_type": "code",
      "execution_count": 37,
      "source": [
        "trainset = torchvision.datasets.MNIST(root='../data', train=True, download=True, transform=transform)\r\n",
        "testset = torchvision.datasets.MNIST(root='../data', train=True, transform=transform)"
      ],
      "outputs": [],
      "metadata": {
        "colab": {
          "base_uri": "https://localhost:8080/",
          "height": 561,
          "referenced_widgets": [
            "f496581dc75e438bae94b3b677c6325e",
            "e766732e33574fcd82ee7702af6c9c25",
            "fb957c51343e4251889e0878290dd49e",
            "288fbdbaa53a43eaaa1387189707e308",
            "0c11dc526f7a403e8abdbc86247e1c74",
            "7c2bb00e284b4e1c9d31ad42b2414698",
            "f80b4e31d2074894bbe5b90e45ee8620",
            "6883421225184540ac02cb99abb1b6b2",
            "2b0bac722dde4bb08cbfd548a4261f8f",
            "48e7cc6beb5c41eabcea56c4ee6b6758",
            "863e7a75b2a842a8811bb9fbce18941f",
            "b7992f646e8843ae987bd60cb640be96",
            "47c0eb5ea2a44ba1a21e0288e5d90487",
            "ace4fc9f60814533824a24b463e9091e",
            "ea4e4df877ca4e7a90ce9d79b541d17e",
            "6a187926d2ac4d4aa146c4763d7bdcda",
            "73478b8332214d5c849a6c77a3460e02",
            "49dff71843454ffb997e0028a6daa533",
            "e6b76ba979904a62957b7800df0beaf3",
            "6b9fecd3369e4caabdfc2bd0bb276d04",
            "43ce0f22c69546e180a8164d6d566fe5",
            "004b4d662e204d4ab28d605676f7bc0e",
            "cce1cd20d22e4c4097b7f9e2102a299c",
            "b3670df4a79845f3aa61ab0cd27b5a73",
            "c1dcfc7355be4e36afeaf1ab666fcbde",
            "5f8a8474c74e43c58e8f3104dc21d08a",
            "a9bdba53e0de464cb5afc32219ce5771",
            "094390a527f4433abcc13a5e58e71552",
            "a9e3f88cdc7c4c2982a7331ab3c3ae1a",
            "3620391f8c9042faa736dc62c5788c41",
            "bf49d545ec074b3b9e73d7a513dc051d",
            "1227819205604f7498b19ccb24ed7812"
          ]
        },
        "id": "vix2WLbyy4nA",
        "outputId": "45db27b6-5bae-4e79-fa17-0b72cae2bc90"
      }
    },
    {
      "cell_type": "code",
      "execution_count": 38,
      "source": [
        "trainloader = torch.utils.data.DataLoader(trainset, batch_size=BATCH_SIZE, shuffle=True)\r\n",
        "testloader = torch.utils.data.DataLoader(testset, batch_size=BATCH_SIZE, shuffle=False)"
      ],
      "outputs": [],
      "metadata": {
        "id": "mqLP1W2hy4nB"
      }
    },
    {
      "cell_type": "code",
      "execution_count": 39,
      "source": [
        "plt.imshow(trainset[4][0][0], cmap='gray')"
      ],
      "outputs": [
        {
          "output_type": "execute_result",
          "data": {
            "text/plain": [
              "<matplotlib.image.AxesImage at 0x1a3c926f208>"
            ]
          },
          "metadata": {},
          "execution_count": 39
        },
        {
          "output_type": "display_data",
          "data": {
            "text/plain": [
              "<matplotlib.figure.Figure at 0x1a3c9280048>"
            ],
            "image/png": "[encoded data removed]"
          },
          "metadata": {}
        }
      ],
      "metadata": {
        "id": "hLlXvOOEy4nC",
        "colab": {
          "base_uri": "https://localhost:8080/",
          "height": 283
        },
        "outputId": "e25e299e-b40f-4ad8-d857-c0d4ff44d6a9"
      }
    },
    {
      "cell_type": "code",
      "execution_count": 40,
      "source": [
        "trainset[0][0].shape"
      ],
      "outputs": [
        {
          "output_type": "execute_result",
          "data": {
            "text/plain": [
              "torch.Size([1, 28, 28])"
            ]
          },
          "metadata": {},
          "execution_count": 40
        }
      ],
      "metadata": {
        "id": "66OXdiCCy4nC",
        "colab": {
          "base_uri": "https://localhost:8080/"
        },
        "outputId": "7aed1c35-e143-4f25-bbeb-07aa6f9410ef"
      }
    },
    {
      "cell_type": "code",
      "execution_count": 41,
      "source": [
        "device = torch.device('cuda' if torch.cuda.is_available() else 'cpu')\r\n",
        "device"
      ],
      "outputs": [
        {
          "output_type": "execute_result",
          "data": {
            "text/plain": [
              "device(type='cpu')"
            ]
          },
          "metadata": {},
          "execution_count": 41
        }
      ],
      "metadata": {
        "id": "pwB61P8py4nD",
        "colab": {
          "base_uri": "https://localhost:8080/"
        },
        "outputId": "df2a1755-478f-488e-9be7-aa0d943e5d4b"
      }
    },
    {
      "cell_type": "markdown",
      "source": [
        "## AlexNet"
      ],
      "metadata": {
        "id": "fTVV6AHjy4nD"
      }
    },
    {
      "cell_type": "code",
      "execution_count": 42,
      "source": [
        "class AlexNet(nn.Module):\r\n",
        "    def __init__(self,width_mult=1):\r\n",
        "        super(AlexNet, self).__init__()\r\n",
        "        self.layer1 = nn.Sequential(\r\n",
        "            nn.Conv2d(1, 32, kernel_size=3, padding=1), # 32*28*28\r\n",
        "            nn.MaxPool2d(kernel_size=2, stride=2), # 32*14*14\r\n",
        "            nn.ReLU(inplace=True),\r\n",
        "            )\r\n",
        "        self.layer2 = nn.Sequential(\r\n",
        "            nn.Conv2d(32, 64, kernel_size=3, padding=1), # 64*14*14\r\n",
        "            nn.MaxPool2d(kernel_size=2, stride=2), # 64*7*7\r\n",
        "            nn.ReLU(inplace=True),\r\n",
        "            )\r\n",
        "        self.layer3 = nn.Sequential(\r\n",
        "            nn.Conv2d(64, 128, kernel_size=3, padding=1), # 128*7*7\r\n",
        "            )\r\n",
        "        self.layer4 = nn.Sequential(\r\n",
        "            nn.Conv2d(128, 256, kernel_size=3, padding=1), # 256*7*7\r\n",
        "            )\r\n",
        " \r\n",
        "        self.layer5 = nn.Sequential(\r\n",
        "            nn.Conv2d(256, 256, kernel_size=3, padding=1), # 256*7*7\r\n",
        "            nn.MaxPool2d(kernel_size=3, stride=2), # 256*3*3\r\n",
        "            nn.ReLU(inplace=True),\r\n",
        "            )\r\n",
        "        self.fc1 = nn.Linear(256*3*3, 1024)\r\n",
        "        self.fc2 = nn.Linear(1024, 512)\r\n",
        "        self.fc3 = nn.Linear(512, 10)\r\n",
        "\r\n",
        "    def forward(self, x):\r\n",
        "        x = self.layer1(x)\r\n",
        "        x = self.layer2(x)\r\n",
        "        x = self.layer3(x)\r\n",
        "        x = self.layer4(x)\r\n",
        "        x = self.layer5(x)\r\n",
        "        x = x.view(-1, 256*3*3)\r\n",
        "        x = self.fc1(x)\r\n",
        "        x = self.fc2(x)\r\n",
        "        x = self.fc3(x)\r\n",
        "        return x"
      ],
      "outputs": [],
      "metadata": {
        "id": "TpOGBkDky4nD"
      }
    },
    {
      "cell_type": "code",
      "execution_count": 43,
      "source": [
        "EPOCH = 5\r\n",
        "BATCH_SIZE = 128\r\n",
        "LR = 0.01"
      ],
      "outputs": [],
      "metadata": {
        "id": "TDGl6vrVy4nE"
      }
    },
    {
      "cell_type": "code",
      "execution_count": 44,
      "source": [
        "def validate(model, data):\r\n",
        "    total = 0\r\n",
        "    correct = 0\r\n",
        "    for i, (images, labels) in enumerate(data):\r\n",
        "        images = images.to(device)\r\n",
        "        x = net(images)\r\n",
        "        value, pred = torch.max(x,1)\r\n",
        "        pred = pred.data.cpu()\r\n",
        "        total += x.size(0)\r\n",
        "        correct += torch.sum(pred == labels)\r\n",
        "    return correct*100./total"
      ],
      "outputs": [],
      "metadata": {
        "id": "J7-QiSk_y4nE"
      }
    },
    {
      "cell_type": "code",
      "execution_count": 45,
      "source": [
        "net = AlexNet().to(device)"
      ],
      "outputs": [],
      "metadata": {
        "id": "l0ExZ3X7y4nE"
      }
    },
    {
      "cell_type": "code",
      "execution_count": 46,
      "source": [
        "# alexnet训练\r\n",
        "def train():\r\n",
        "    # 定义损失函数为交叉熵损失，优化方法为SGD\r\n",
        "    criterion = nn.CrossEntropyLoss() \r\n",
        "    optimizer = optim.SGD(net.parameters(), lr=LR, momentum=0.9)\r\n",
        "    max_accuracy=0\r\n",
        "    accuracies=[]\r\n",
        "    for epoch in range(EPOCH):\r\n",
        "        for i, (images,labels) in enumerate(trainloader):\r\n",
        "            images = images.to(device)\r\n",
        "            labels = labels.to(device)\r\n",
        "            optimizer.zero_grad()\r\n",
        "            outputs = net(images)\r\n",
        "            loss = criterion(outputs, labels)\r\n",
        "            loss_item = loss.item()\r\n",
        "            loss.backward()\r\n",
        "            optimizer.step()\r\n",
        "\r\n",
        "        accuracy = float(validate(criterion, testloader))\r\n",
        "        accuracies.append(accuracy)\r\n",
        "        print(\"Epoch %d accuracy: %f loss: %f\" % (epoch, accuracy, loss_item))\r\n",
        "        if accuracy > max_accuracy:\r\n",
        "            best_model = copy.deepcopy(criterion)\r\n",
        "            max_accuracy = accuracy\r\n",
        "            print(\"Saving Best Model with Accuracy: \", accuracy)\r\n",
        "        print('Epoch:', epoch+1, \"Accuracy :\", accuracy, '%')\r\n",
        "    plt.plot(accuracies)\r\n",
        "    return best_model"
      ],
      "outputs": [],
      "metadata": {
        "id": "kYD5-Jpqy4nE"
      }
    },
    {
      "cell_type": "code",
      "execution_count": 47,
      "source": [
        "# alexnet = train()"
      ],
      "outputs": [],
      "metadata": {
        "id": "t459LFLry4nF",
        "colab": {
          "base_uri": "https://localhost:8080/",
          "height": 519
        },
        "outputId": "17091de4-039f-4472-d507-3f103208a175"
      }
    },
    {
      "cell_type": "code",
      "execution_count": 48,
      "source": [
        "# torch.save(alexnet, '../models/alexnet.pkl')"
      ],
      "outputs": [],
      "metadata": {
        "id": "V1F0JQt0y4nF"
      }
    },
    {
      "cell_type": "code",
      "execution_count": 49,
      "source": [
        "alexnet = AlexNet()\r\n",
        "alexnet.load_state_dict(torch.load('../models/alexnet.pkl'))\r\n",
        "alexnet.eval()"
      ],
      "outputs": [
        {
          "output_type": "execute_result",
          "data": {
            "text/plain": [
              "AlexNet(\n",
              "  (layer1): Sequential(\n",
              "    (0): Conv2d(1, 32, kernel_size=(3, 3), stride=(1, 1), padding=(1, 1))\n",
              "    (1): MaxPool2d(kernel_size=2, stride=2, padding=0, dilation=1, ceil_mode=False)\n",
              "    (2): ReLU(inplace=True)\n",
              "  )\n",
              "  (layer2): Sequential(\n",
              "    (0): Conv2d(32, 64, kernel_size=(3, 3), stride=(1, 1), padding=(1, 1))\n",
              "    (1): MaxPool2d(kernel_size=2, stride=2, padding=0, dilation=1, ceil_mode=False)\n",
              "    (2): ReLU(inplace=True)\n",
              "  )\n",
              "  (layer3): Sequential(\n",
              "    (0): Conv2d(64, 128, kernel_size=(3, 3), stride=(1, 1), padding=(1, 1))\n",
              "  )\n",
              "  (layer4): Sequential(\n",
              "    (0): Conv2d(128, 256, kernel_size=(3, 3), stride=(1, 1), padding=(1, 1))\n",
              "  )\n",
              "  (layer5): Sequential(\n",
              "    (0): Conv2d(256, 256, kernel_size=(3, 3), stride=(1, 1), padding=(1, 1))\n",
              "    (1): MaxPool2d(kernel_size=3, stride=2, padding=0, dilation=1, ceil_mode=False)\n",
              "    (2): ReLU(inplace=True)\n",
              "  )\n",
              "  (fc1): Linear(in_features=2304, out_features=1024, bias=True)\n",
              "  (fc2): Linear(in_features=1024, out_features=512, bias=True)\n",
              "  (fc3): Linear(in_features=512, out_features=10, bias=True)\n",
              ")"
            ]
          },
          "metadata": {},
          "execution_count": 49
        }
      ],
      "metadata": {
        "id": "aWJBAYEX4Xfr"
      }
    },
    {
      "cell_type": "code",
      "execution_count": 77,
      "source": [
        "plt.figure(figsize=(14, 14))\r\n",
        "for i, (image, label) in enumerate(testloader):\r\n",
        "    predict = torch.argmax(alexnet(image), axis=1)\r\n",
        "    print((predict == label).sum()/label.shape[0])\r\n",
        "    for j in range(image.shape[0]):\r\n",
        "        plt.subplot(8, 8, j+1)\r\n",
        "        plt.imshow(image[j, 0], cmap='gray')\r\n",
        "        plt.title(predict[j].item())\r\n",
        "        plt.axis('off')\r\n",
        "    if i==1:\r\n",
        "        break"
      ],
      "outputs": [
        {
          "output_type": "stream",
          "name": "stdout",
          "text": [
            "tensor([5, 0, 4, 1, 9, 2, 1, 3, 1, 4, 3, 5, 3, 6, 1, 7, 2, 8, 6, 9, 4, 0, 9, 1,\n",
            "        1, 2, 4, 3, 2, 7, 3, 8, 6, 9, 0, 5, 6, 0, 7, 6, 1, 8, 7, 9, 3, 9, 8, 5,\n",
            "        9, 3, 3, 0, 7, 4, 9, 8, 0, 9, 4, 1, 4, 4, 6, 0]) tensor([5, 0, 4, 1, 9, 2, 1, 3, 1, 4, 3, 5, 3, 6, 1, 7, 2, 8, 6, 9, 4, 0, 9, 1,\n",
            "        1, 2, 4, 3, 2, 7, 3, 8, 6, 9, 0, 5, 6, 0, 7, 6, 1, 8, 7, 9, 3, 9, 8, 5,\n",
            "        9, 3, 3, 0, 7, 4, 9, 8, 0, 9, 4, 1, 4, 4, 6, 0])\n",
            "tensor([4, 5, 6, 1, 0, 0, 1, 7, 1, 6, 3, 0, 2, 1, 1, 7, 9, 0, 2, 6, 7, 8, 3, 9,\n",
            "        0, 4, 6, 7, 4, 6, 8, 0, 7, 8, 3, 1, 5, 7, 1, 7, 1, 1, 6, 3, 0, 2, 9, 3,\n",
            "        1, 1, 0, 4, 9, 2, 0, 0, 2, 0, 2, 7, 1, 8, 6, 4]) tensor([4, 5, 6, 1, 0, 0, 1, 7, 1, 6, 3, 0, 2, 1, 1, 7, 9, 0, 2, 6, 7, 8, 3, 9,\n",
            "        0, 4, 6, 7, 4, 6, 8, 0, 7, 8, 3, 1, 5, 7, 1, 7, 1, 1, 6, 3, 0, 2, 9, 3,\n",
            "        1, 1, 0, 4, 9, 2, 0, 0, 2, 0, 2, 7, 1, 8, 6, 4])\n"
          ]
        },
        {
          "output_type": "display_data",
          "data": {
            "text/plain": [
              "<matplotlib.figure.Figure at 0x1a3c0e7b4e0>"
            ],
            "image/png": "[encoded data removed]"
          },
          "metadata": {}
        }
      ],
      "metadata": {}
    },
    {
      "cell_type": "code",
      "execution_count": null,
      "source": [],
      "outputs": [],
      "metadata": {}
    }
  ]
}