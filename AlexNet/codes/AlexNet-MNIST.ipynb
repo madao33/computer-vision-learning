{
 "cells": [
  {
   "cell_type": "markdown",
   "source": [
    "# AlexNet代码实现\r\n",
    "\r\n",
    "鉴于原论文中使用的数据集过于庞大，分类过多，目前手头的设备运行是在过于缓慢，折中考虑尝试使用MNIST的数据集实现AlexNet"
   ],
   "metadata": {}
  },
  {
   "cell_type": "code",
   "execution_count": 1,
   "source": [
    "import torch, torchvision\r\n",
    "import torchvision.transforms as transforms\r\n",
    "import torch.nn as nn\r\n",
    "from torch import optim\r\n",
    "import matplotlib.pyplot as plt\r\n",
    "%matplotlib inline\r\n",
    "import copy"
   ],
   "outputs": [],
   "metadata": {}
  },
  {
   "cell_type": "code",
   "execution_count": 2,
   "source": [
    "# 超参数设置\r\n",
    "EPOCH = 10\r\n",
    "BATCH_SIZE = 64\r\n",
    "LR = 0.01"
   ],
   "outputs": [],
   "metadata": {}
  },
  {
   "cell_type": "code",
   "execution_count": 3,
   "source": [
    "transform = transforms.ToTensor()"
   ],
   "outputs": [],
   "metadata": {}
  },
  {
   "cell_type": "markdown",
   "source": [
    "## 数据集\r\n",
    "\r\n",
    "通过torchvision下载数据集"
   ],
   "metadata": {}
  },
  {
   "cell_type": "code",
   "execution_count": 4,
   "source": [
    "trainset = torchvision.datasets.MNIST(root='../data', train=True, download=False, transform=transform)\r\n",
    "testset = torchvision.datasets.MNIST(root='../data', train=True, transform=transform)"
   ],
   "outputs": [
    {
     "output_type": "stream",
     "name": "stderr",
     "text": [
      "C:\\Users\\Administrator\\AppData\\Roaming\\Python\\Python36\\site-packages\\torchvision\\datasets\\mnist.py:498: UserWarning: The given NumPy array is not writeable, and PyTorch does not support non-writeable tensors. This means you can write to the underlying (supposedly non-writeable) NumPy array using the tensor. You may want to copy the array to protect its data or make it writeable before converting it to a tensor. This type of warning will be suppressed for the rest of this program. (Triggered internally at  ..\\torch\\csrc\\utils\\tensor_numpy.cpp:180.)\n",
      "  return torch.from_numpy(parsed.astype(m[2], copy=False)).view(*s)\n"
     ]
    }
   ],
   "metadata": {}
  },
  {
   "cell_type": "code",
   "execution_count": 5,
   "source": [
    "trainloader = torch.utils.data.DataLoader(trainset, batch_size=BATCH_SIZE, shuffle=True)\r\n",
    "testloader = torch.utils.data.DataLoader(testset, batch_size=BATCH_SIZE, shuffle=False)"
   ],
   "outputs": [],
   "metadata": {}
  },
  {
   "cell_type": "code",
   "execution_count": 6,
   "source": [
    "plt.imshow(trainset[4][0][0], cmap='gray')"
   ],
   "outputs": [
    {
     "output_type": "execute_result",
     "data": {
      "text/plain": [
       "<matplotlib.image.AxesImage at 0x26bfe61bac8>"
      ]
     },
     "metadata": {},
     "execution_count": 6
    },
    {
     "output_type": "display_data",
     "data": {
      "text/plain": [
       "<matplotlib.figure.Figure at 0x26bfe565828>"
      ],
      "image/png": "[encoded data removed]"
     },
     "metadata": {}
    }
   ],
   "metadata": {}
  },
  {
   "cell_type": "code",
   "execution_count": 7,
   "source": [
    "trainset[0][0].shape"
   ],
   "outputs": [
    {
     "output_type": "execute_result",
     "data": {
      "text/plain": [
       "torch.Size([1, 28, 28])"
      ]
     },
     "metadata": {},
     "execution_count": 7
    }
   ],
   "metadata": {}
  },
  {
   "cell_type": "code",
   "execution_count": 8,
   "source": [
    "device = torch.device('cuda' if torch.cuda.is_available() else 'cpu')"
   ],
   "outputs": [],
   "metadata": {}
  },
  {
   "cell_type": "markdown",
   "source": [
    "## AlexNet"
   ],
   "metadata": {}
  },
  {
   "cell_type": "code",
   "execution_count": 9,
   "source": [
    "class AlexNet(nn.Module):\r\n",
    "    def __init__(self,width_mult=1):\r\n",
    "        super(AlexNet, self).__init__()\r\n",
    "        self.layer1 = nn.Sequential(\r\n",
    "            nn.Conv2d(1, 32, kernel_size=3, padding=1), # 32*28*28\r\n",
    "            nn.MaxPool2d(kernel_size=2, stride=2), # 32*14*14\r\n",
    "            nn.ReLU(inplace=True),\r\n",
    "            )\r\n",
    "        self.layer2 = nn.Sequential(\r\n",
    "            nn.Conv2d(32, 64, kernel_size=3, padding=1), # 64*14*14\r\n",
    "            nn.MaxPool2d(kernel_size=2, stride=2), # 64*7*7\r\n",
    "            nn.ReLU(inplace=True),\r\n",
    "            )\r\n",
    "        self.layer3 = nn.Sequential(\r\n",
    "            nn.Conv2d(64, 128, kernel_size=3, padding=1), # 128*7*7\r\n",
    "            )\r\n",
    "        self.layer4 = nn.Sequential(\r\n",
    "            nn.Conv2d(128, 256, kernel_size=3, padding=1), # 256*7*7\r\n",
    "            )\r\n",
    " \r\n",
    "        self.layer5 = nn.Sequential(\r\n",
    "            nn.Conv2d(256, 256, kernel_size=3, padding=1), # 256*7*7\r\n",
    "            nn.MaxPool2d(kernel_size=3, stride=2), # 256*3*3\r\n",
    "            nn.ReLU(inplace=True),\r\n",
    "            )\r\n",
    "        self.fc1 = nn.Linear(256*3*3, 1024)\r\n",
    "        self.fc2 = nn.Linear(1024, 512)\r\n",
    "        self.fc3 = nn.Linear(512, 10)\r\n",
    "\r\n",
    "    def forward(self, x):\r\n",
    "        x = self.layer1(x)\r\n",
    "        x = self.layer2(x)\r\n",
    "        x = self.layer3(x)\r\n",
    "        x = self.layer4(x)\r\n",
    "        x = self.layer5(x)\r\n",
    "        x = x.view(-1, 256*3*3)\r\n",
    "        x = self.fc1(x)\r\n",
    "        x = self.fc2(x)\r\n",
    "        x = self.fc3(x)\r\n",
    "        return x"
   ],
   "outputs": [],
   "metadata": {}
  },
  {
   "cell_type": "code",
   "execution_count": 10,
   "source": [
    "EPOCH = 5\r\n",
    "BATCH_SIZE = 128\r\n",
    "LR = 0.01"
   ],
   "outputs": [],
   "metadata": {}
  },
  {
   "cell_type": "code",
   "execution_count": 11,
   "source": [
    "def validate(model, data):\r\n",
    "    total = 0\r\n",
    "    correct = 0\r\n",
    "    for i, (images, labels) in enumerate(data):\r\n",
    "        images = images.cpu()\r\n",
    "        x = net(images)\r\n",
    "        value, pred = torch.max(x,1)\r\n",
    "        pred = pred.data.cpu()\r\n",
    "        total += x.size(0)\r\n",
    "        correct += torch.sum(pred == labels)\r\n",
    "    return correct*100./total"
   ],
   "outputs": [],
   "metadata": {}
  },
  {
   "cell_type": "code",
   "execution_count": 12,
   "source": [
    "net = AlexNet().to(device)"
   ],
   "outputs": [],
   "metadata": {}
  },
  {
   "cell_type": "code",
   "execution_count": 13,
   "source": [
    "# alexnet训练\r\n",
    "def train():\r\n",
    "    # 定义损失函数为交叉熵损失，优化方法为SGD\r\n",
    "    criterion = nn.CrossEntropyLoss() \r\n",
    "    optimizer = optim.SGD(net.parameters(), lr=LR, momentum=0.9)\r\n",
    "    max_accuracy=0\r\n",
    "    accuracies=[]\r\n",
    "    for epoch in range(EPOCH):\r\n",
    "        for i, (images,labels) in enumerate(trainloader):\r\n",
    "            images = images.to(device)\r\n",
    "            labels = labels.to(device)\r\n",
    "            optimizer.zero_grad()\r\n",
    "            outputs = net(images)\r\n",
    "            loss = criterion(outputs, labels)\r\n",
    "            loss_item = loss.item()\r\n",
    "            loss.backward()\r\n",
    "            optimizer.step()\r\n",
    "\r\n",
    "        accuracy = float(validate(criterion, testloader))\r\n",
    "        accuracies.append(accuracy)\r\n",
    "        print(\"Epoch %d accuracy: %f loss: %f\" % (epoch, accuracy, loss_item))\r\n",
    "        if accuracy > max_accuracy:\r\n",
    "            best_model = copy.deepcopy(criterion)\r\n",
    "            max_accuracy = accuracy\r\n",
    "            print(\"Saving Best Model with Accuracy: \", accuracy)\r\n",
    "        print('Epoch:', epoch+1, \"Accuracy :\", accuracy, '%')\r\n",
    "    plt.plot(accuracies)\r\n",
    "    return best_model"
   ],
   "outputs": [],
   "metadata": {}
  },
  {
   "cell_type": "code",
   "execution_count": 14,
   "source": [
    "alexnet = train()"
   ],
   "outputs": [
    {
     "output_type": "stream",
     "name": "stderr",
     "text": [
      "C:\\Users\\Administrator\\.conda\\envs\\python3.6env\\lib\\site-packages\\torch\\nn\\functional.py:718: UserWarning: Named tensors and all their associated APIs are an experimental feature and subject to change. Please do not use them for anything important until they are released as stable. (Triggered internally at  ..\\c10/core/TensorImpl.h:1156.)\n",
      "  return torch.max_pool2d(input, kernel_size, stride, padding, dilation, ceil_mode)\n"
     ]
    },
    {
     "output_type": "stream",
     "name": "stdout",
     "text": [
      "Epoch 0 accuracy: 97.563332 loss: 0.181040\n",
      "Saving Best Model with Accuracy:  97.5633316040039\n",
      "Epoch: 1 Accuracy : 97.5633316040039 %\n"
     ]
    }
   ],
   "metadata": {}
  },
  {
   "cell_type": "code",
   "execution_count": null,
   "source": [],
   "outputs": [],
   "metadata": {}
  }
 ],
 "metadata": {
  "orig_nbformat": 4,
  "language_info": {
   "name": "python",
   "version": "3.6.2",
   "mimetype": "text/x-python",
   "codemirror_mode": {
    "name": "ipython",
    "version": 3
   },
   "pygments_lexer": "ipython3",
   "nbconvert_exporter": "python",
   "file_extension": ".py"
  },
  "kernelspec": {
   "name": "python3",
   "display_name": "Python 3.6.2 64-bit ('python3.6env': conda)"
  },
  "interpreter": {
   "hash": "7835acacaeaf508b921ecd27357232a38d5f7dc52657613320ee88843bc3a5f4"
  }
 },
 "nbformat": 4,
 "nbformat_minor": 2
}