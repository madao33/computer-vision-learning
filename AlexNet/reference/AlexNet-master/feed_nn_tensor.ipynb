{
 "metadata": {
  "language_info": {
   "codemirror_mode": {
    "name": "ipython",
    "version": 3
   },
   "file_extension": ".py",
   "mimetype": "text/x-python",
   "name": "python",
   "nbconvert_exporter": "python",
   "pygments_lexer": "ipython3",
   "version": "3.7.6-final"
  },
  "orig_nbformat": 2,
  "kernelspec": {
   "name": "python3",
   "display_name": "Python 3",
   "language": "python"
  },
  "metadata": {
   "interpreter": {
    "hash": "515f0014b05aeb07f1783645524af99167d24666a673ce4bc1802b9da03adacf"
   }
  }
 },
 "nbformat": 4,
 "nbformat_minor": 2,
 "cells": [
  {
   "cell_type": "code",
   "execution_count": 1,
   "metadata": {},
   "outputs": [
    {
     "output_type": "stream",
     "name": "stdout",
     "text": [
      "Note: you may need to restart the kernel to use updated packages.\n",
      "'C:\\Users\\Soundharya' is not recognized as an internal or external command,\n",
      "operable program or batch file.\n"
     ]
    }
   ],
   "source": [
    "pip install tensorboard --upgrade"
   ]
  },
  {
   "cell_type": "code",
   "execution_count": 2,
   "metadata": {},
   "outputs": [],
   "source": [
    "import torch,torchvision\n",
    "import torch.nn as nn\n",
    "import torchvision.transforms as transforms\n",
    "import torchvision.datasets as dsets\n",
    "import matplotlib.pyplot as plt\n",
    "import torch.nn.functional as F"
   ]
  },
  {
   "cell_type": "code",
   "execution_count": 3,
   "metadata": {},
   "outputs": [
    {
     "output_type": "error",
     "ename": "ImportError",
     "evalue": "TensorBoard logging requires TensorBoard version 1.15 or above",
     "traceback": [
      "\u001b[1;31m---------------------------------------------------------------------------\u001b[0m",
      "\u001b[1;31mImportError\u001b[0m                               Traceback (most recent call last)",
      "\u001b[1;32m<ipython-input-3-98414150d431>\u001b[0m in \u001b[0;36m<module>\u001b[1;34m\u001b[0m\n\u001b[1;32m----> 1\u001b[1;33m \u001b[1;32mfrom\u001b[0m \u001b[0mtorch\u001b[0m\u001b[1;33m.\u001b[0m\u001b[0mutils\u001b[0m\u001b[1;33m.\u001b[0m\u001b[0mtensorboard\u001b[0m \u001b[1;32mimport\u001b[0m \u001b[0mSummaryWriter\u001b[0m\u001b[1;33m\u001b[0m\u001b[1;33m\u001b[0m\u001b[0m\n\u001b[0m\u001b[0;32m      2\u001b[0m \u001b[1;32mimport\u001b[0m \u001b[0msys\u001b[0m\u001b[1;33m\u001b[0m\u001b[1;33m\u001b[0m\u001b[0m\n",
      "\u001b[1;32m~\\anaconda3\\lib\\site-packages\\torch\\utils\\tensorboard\\__init__.py\u001b[0m in \u001b[0;36m<module>\u001b[1;34m\u001b[0m\n\u001b[0;32m      2\u001b[0m \u001b[1;32mfrom\u001b[0m \u001b[0mdistutils\u001b[0m\u001b[1;33m.\u001b[0m\u001b[0mversion\u001b[0m \u001b[1;32mimport\u001b[0m \u001b[0mLooseVersion\u001b[0m\u001b[1;33m\u001b[0m\u001b[1;33m\u001b[0m\u001b[0m\n\u001b[0;32m      3\u001b[0m \u001b[1;32mif\u001b[0m \u001b[1;32mnot\u001b[0m \u001b[0mhasattr\u001b[0m\u001b[1;33m(\u001b[0m\u001b[0mtensorboard\u001b[0m\u001b[1;33m,\u001b[0m \u001b[1;34m'__version__'\u001b[0m\u001b[1;33m)\u001b[0m \u001b[1;32mor\u001b[0m \u001b[0mLooseVersion\u001b[0m\u001b[1;33m(\u001b[0m\u001b[0mtensorboard\u001b[0m\u001b[1;33m.\u001b[0m\u001b[0m__version__\u001b[0m\u001b[1;33m)\u001b[0m \u001b[1;33m<\u001b[0m \u001b[0mLooseVersion\u001b[0m\u001b[1;33m(\u001b[0m\u001b[1;34m'1.15'\u001b[0m\u001b[1;33m)\u001b[0m\u001b[1;33m:\u001b[0m\u001b[1;33m\u001b[0m\u001b[1;33m\u001b[0m\u001b[0m\n\u001b[1;32m----> 4\u001b[1;33m     \u001b[1;32mraise\u001b[0m \u001b[0mImportError\u001b[0m\u001b[1;33m(\u001b[0m\u001b[1;34m'TensorBoard logging requires TensorBoard version 1.15 or above'\u001b[0m\u001b[1;33m)\u001b[0m\u001b[1;33m\u001b[0m\u001b[1;33m\u001b[0m\u001b[0m\n\u001b[0m\u001b[0;32m      5\u001b[0m \u001b[1;32mdel\u001b[0m \u001b[0mLooseVersion\u001b[0m\u001b[1;33m\u001b[0m\u001b[1;33m\u001b[0m\u001b[0m\n\u001b[0;32m      6\u001b[0m \u001b[1;32mdel\u001b[0m \u001b[0mtensorboard\u001b[0m\u001b[1;33m\u001b[0m\u001b[1;33m\u001b[0m\u001b[0m\n",
      "\u001b[1;31mImportError\u001b[0m: TensorBoard logging requires TensorBoard version 1.15 or above"
     ]
    }
   ],
   "source": [
    "from torch.utils.tensorboard import SummaryWriter\n",
    "import sys"
   ]
  },
  {
   "cell_type": "code",
   "execution_count": 9,
   "metadata": {},
   "outputs": [
    {
     "output_type": "error",
     "ename": "NameError",
     "evalue": "name 'SummaryWriter' is not defined",
     "traceback": [
      "\u001b[1;31m---------------------------------------------------------------------------\u001b[0m",
      "\u001b[1;31mNameError\u001b[0m                                 Traceback (most recent call last)",
      "\u001b[1;32m<ipython-input-9-835b42f227da>\u001b[0m in \u001b[0;36m<module>\u001b[1;34m\u001b[0m\n\u001b[1;32m----> 1\u001b[1;33m \u001b[0mWriter\u001b[0m \u001b[1;33m=\u001b[0m \u001b[0mSummaryWriter\u001b[0m\u001b[1;33m(\u001b[0m\u001b[1;34m\"runs/mnist2\"\u001b[0m\u001b[1;33m)\u001b[0m\u001b[1;33m\u001b[0m\u001b[1;33m\u001b[0m\u001b[0m\n\u001b[0m",
      "\u001b[1;31mNameError\u001b[0m: name 'SummaryWriter' is not defined"
     ]
    }
   ],
   "source": [
    "Writer = SummaryWriter(\"runs/mnist2\")"
   ]
  },
  {
   "cell_type": "code",
   "execution_count": 4,
   "metadata": {},
   "outputs": [
    {
     "output_type": "execute_result",
     "data": {
      "text/plain": [
       "device(type='cuda')"
      ]
     },
     "metadata": {},
     "execution_count": 4
    }
   ],
   "source": [
    "# device configuration\n",
    "device = torch.device('cuda' if torch.cuda.is_available() else 'cpu')\n",
    "device"
   ]
  },
  {
   "cell_type": "code",
   "execution_count": 5,
   "metadata": {},
   "outputs": [],
   "source": [
    "#hyper parameters\n",
    "input_dim = 784\n",
    "hidden_dim = 500\n",
    "output_dim = 10\n",
    "num_epochs = 5\n",
    "batch_size = 64\n",
    "learning_rate = 0.01"
   ]
  },
  {
   "source": [
    "# LOADING DATASET"
   ],
   "cell_type": "markdown",
   "metadata": {}
  },
  {
   "cell_type": "code",
   "execution_count": 6,
   "metadata": {},
   "outputs": [],
   "source": [
    "train_dataset = dsets.MNIST(root='./data',train=True,transform=transforms.ToTensor(),download=True)\n",
    "\n",
    "test_dataset = dsets.MNIST(root='./data',train=False, transform=transforms.ToTensor(),download=True)"
   ]
  },
  {
   "cell_type": "code",
   "execution_count": 7,
   "metadata": {},
   "outputs": [],
   "source": [
    "train_loader = torch.utils.data.DataLoader(dataset=train_dataset,batch_size=batch_size,shuffle=True)\n",
    "test_loader = torch.utils.data.DataLoader(dataset=test_dataset,batch_size=batch_size,shuffle=False)"
   ]
  },
  {
   "cell_type": "code",
   "execution_count": 8,
   "metadata": {},
   "outputs": [
    {
     "output_type": "display_data",
     "data": {
      "text/plain": "<Figure size 432x288 with 6 Axes>",
      "image/svg+xml": "<?xml version=\"1.0\" encoding=\"utf-8\" standalone=\"no\"?>\r\n<!DOCTYPE svg PUBLIC \"-//W3C//DTD SVG 1.1//EN\"\r\n  \"http://www.w3.org/Graphics/SVG/1.1/DTD/svg11.dtd\">\r\n<!-- Created with matplotlib (https://matplotlib.org/) -->\r\n<svg height=\"250.193165pt\" version=\"1.1\" viewBox=\"0 0 368.925 250.193165\" width=\"368.925pt\" xmlns=\"http://www.w3.org/2000/svg\" xmlns:xlink=\"http://www.w3.org/1999/xlink\">\r\n <metadata>\r\n  <rdf:RDF xmlns:cc=\"http://creativecommons.org/ns#\" xmlns:dc=\"http://purl.org/dc/elements/1.1/\" xmlns:rdf=\"http://www.w3.org/1999/02/22-rdf-syntax-ns#\">\r\n   <cc:Work>\r\n    <dc:type rdf:resource=\"http://purl.org/dc/dcmitype/StillImage\"/>\r\n    <dc:date>2021-04-01T19:35:12.665813</dc:date>\r\n    <dc:format>image/svg+xml</dc:format>\r\n    <dc:creator>\r\n     <cc:Agent>\r\n      <dc:title>Matplotlib v3.3.4, https://matplotlib.org/</dc:title>\r\n     </cc:Agent>\r\n    </dc:creator>\r\n   </cc:Work>\r\n  </rdf:RDF>\r\n </metadata>\r\n <defs>\r\n  <style type=\"text/css\">*{stroke-linecap:butt;stroke-linejoin:round;}</style>\r\n </defs>\r\n <g id=\"figure_1\">\r\n  <g id=\"patch_1\">\r\n   <path d=\"M -0 250.193165 \r\nL 368.925 250.193165 \r\nL 368.925 0 \r\nL -0 0 \r\nz\r\n\" style=\"fill:none;\"/>\r\n  </g>\r\n  <g id=\"axes_1\">\r\n   <g id=\"patch_2\">\r\n    <path d=\"M 26.925 107.711404 \r\nL 125.395588 107.711404 \r\nL 125.395588 9.240815 \r\nL 26.925 9.240815 \r\nz\r\n\" style=\"fill:#ffffff;\"/>\r\n   </g>\r\n   <g clip-path=\"url(#pac7a612d35)\">\r\n    <image height=\"99\" id=\"imagee1f74e0b34\" transform=\"scale(1 -1)translate(0 -99)\" width=\"99\" x=\"26.925\" xlink:href=\"data:image/png;base64,\r\niVBORw0KGgoAAAANSUhEUgAAAGMAAABjCAYAAACPO76VAAADmElEQVR4nO2czyv7cRzH377joFxGuayJlJJiaCdlflxEcuDE2clf4GBxcHHdQbmrpVYrl512QGvEQYiEC0kpKURRvrfX9/361HzX7M1z2/Nxer561faqR6/P+7Pt06qMMZ+GQPDntwcg/6AMICgDiOrfHsBmfn5e1cvLy5IPDw9Vb3h4WPLDw4PbwX4IbgYQlAEE1GXqK7q6ulS9u7sreXx8XPXOzs5+ZKZiw80AgjKAoAwgoM6M7e1tVT8/P0uuq6tTvdbW1py9UoWbAQRlAAF1mdrZ2VF1LBaT7P10Xo5wM4CgDCAoAwioM8PL2tqa5JmZGdVramqSHIlEVO/g4EDVn5+l8WMmNwMIygCiypTIAwltbW2q/uqb2YmJCVVvbm46manYcDOAoAwgKAOIkjkzfD6fqrPZrOTe3l7Vu7y8VPXIyEjOHhLcDCAoA4iSuUx5aWhokLy3t6d6LS0tqo7H45Knp6fdDvYNuBlAUAYQlAFEyZ4ZNmNjY6pOJpOqfnl5kWzf5hqjb5F/G24GEJQBRFlcprxEo1FVLy4uSk6lUqo3Ojr6EyPlBTcDCMoAgjKAKMszo7a2VtX2w3EdHR2qNzQ0JDmTybgd7D9wM4CgDCCgn5sqlNfXV1Xbt7Pd3d2qt7S0JNl7m/v+/u5gutxwM4CgDCAoA4iyvLX10tfXJzmdTqteTU2N5IGBAdXb2tpyOpcXbgYQlAEEZQBREWeGjf25whhjFhYWJD8+Pqpef3+/5OPjY6dzGcPNgIIygKi4y1RjY6Oqj46OcvampqYkJxIJt4MZbgYUlAEEZQBRcWeGl8nJSckbGxuqZ9/ODg4Oqp6LP6nkZgBBGUBAX6b8fr/kUCikeva/IITD4bxf8+3tTdXn5+eST09PVa++vl7y3Nyc6q2urub9nvnCzQCCMoCgDCCcPB1i/0+5McZ0dnZK9l6X29vbJff09Kie/ctbIBBQvevra8nBYDDv2T4+PlR9f38v2T4jvNh/UOkKbgYQlAGEk1vbq6srVTc3Nxf0Ok9PT5JPTk6+M1JB3NzcSF5ZWVG9/f39or8fNwMIygCCMoBwcmbYv5AZY8zs7Kzk29tb1bO/nlhfX1e9u7s7yRcXF8UcERJuBhCUAQT0t7aVBjcDCMoAgjKAoAwgKAMIygCCMoCgDCAoAwjKAIIygKAMICgDCMoAgjKAoAwgKAMIygCCMoCgDCAoAwjKAIIygKAMIP4C2ZXC7n77ZucAAAAASUVORK5CYII=\" y=\"-8.711404\"/>\r\n   </g>\r\n   <g id=\"matplotlib.axis_1\">\r\n    <g id=\"xtick_1\">\r\n     <g id=\"line2d_1\">\r\n      <defs>\r\n       <path d=\"M 0 0 \r\nL 0 3.5 \r\n\" id=\"m683548f247\" style=\"stroke:#000000;stroke-width:0.8;\"/>\r\n      </defs>\r\n      <g>\r\n       <use style=\"stroke:#000000;stroke-width:0.8;\" x=\"28.683403\" xlink:href=\"#m683548f247\" y=\"107.711404\"/>\r\n      </g>\r\n     </g>\r\n     <g id=\"text_1\">\r\n      <!-- 0 -->\r\n      <g transform=\"translate(25.502153 122.309841)scale(0.1 -0.1)\">\r\n       <defs>\r\n        <path d=\"M 31.78125 66.40625 \r\nQ 24.171875 66.40625 20.328125 58.90625 \r\nQ 16.5 51.421875 16.5 36.375 \r\nQ 16.5 21.390625 20.328125 13.890625 \r\nQ 24.171875 6.390625 31.78125 6.390625 \r\nQ 39.453125 6.390625 43.28125 13.890625 \r\nQ 47.125 21.390625 47.125 36.375 \r\nQ 47.125 51.421875 43.28125 58.90625 \r\nQ 39.453125 66.40625 31.78125 66.40625 \r\nz\r\nM 31.78125 74.21875 \r\nQ 44.046875 74.21875 50.515625 64.515625 \r\nQ 56.984375 54.828125 56.984375 36.375 \r\nQ 56.984375 17.96875 50.515625 8.265625 \r\nQ 44.046875 -1.421875 31.78125 -1.421875 \r\nQ 19.53125 -1.421875 13.0625 8.265625 \r\nQ 6.59375 17.96875 6.59375 36.375 \r\nQ 6.59375 54.828125 13.0625 64.515625 \r\nQ 19.53125 74.21875 31.78125 74.21875 \r\nz\r\n\" id=\"DejaVuSans-48\"/>\r\n       </defs>\r\n       <use xlink:href=\"#DejaVuSans-48\"/>\r\n      </g>\r\n     </g>\r\n    </g>\r\n    <g id=\"xtick_2\">\r\n     <g id=\"line2d_2\">\r\n      <g>\r\n       <use style=\"stroke:#000000;stroke-width:0.8;\" x=\"63.851471\" xlink:href=\"#m683548f247\" y=\"107.711404\"/>\r\n      </g>\r\n     </g>\r\n     <g id=\"text_2\">\r\n      <!-- 10 -->\r\n      <g transform=\"translate(57.488971 122.309841)scale(0.1 -0.1)\">\r\n       <defs>\r\n        <path d=\"M 12.40625 8.296875 \r\nL 28.515625 8.296875 \r\nL 28.515625 63.921875 \r\nL 10.984375 60.40625 \r\nL 10.984375 69.390625 \r\nL 28.421875 72.90625 \r\nL 38.28125 72.90625 \r\nL 38.28125 8.296875 \r\nL 54.390625 8.296875 \r\nL 54.390625 0 \r\nL 12.40625 0 \r\nz\r\n\" id=\"DejaVuSans-49\"/>\r\n       </defs>\r\n       <use xlink:href=\"#DejaVuSans-49\"/>\r\n       <use x=\"63.623047\" xlink:href=\"#DejaVuSans-48\"/>\r\n      </g>\r\n     </g>\r\n    </g>\r\n    <g id=\"xtick_3\">\r\n     <g id=\"line2d_3\">\r\n      <g>\r\n       <use style=\"stroke:#000000;stroke-width:0.8;\" x=\"99.019538\" xlink:href=\"#m683548f247\" y=\"107.711404\"/>\r\n      </g>\r\n     </g>\r\n     <g id=\"text_3\">\r\n      <!-- 20 -->\r\n      <g transform=\"translate(92.657038 122.309841)scale(0.1 -0.1)\">\r\n       <defs>\r\n        <path d=\"M 19.1875 8.296875 \r\nL 53.609375 8.296875 \r\nL 53.609375 0 \r\nL 7.328125 0 \r\nL 7.328125 8.296875 \r\nQ 12.9375 14.109375 22.625 23.890625 \r\nQ 32.328125 33.6875 34.8125 36.53125 \r\nQ 39.546875 41.84375 41.421875 45.53125 \r\nQ 43.3125 49.21875 43.3125 52.78125 \r\nQ 43.3125 58.59375 39.234375 62.25 \r\nQ 35.15625 65.921875 28.609375 65.921875 \r\nQ 23.96875 65.921875 18.8125 64.3125 \r\nQ 13.671875 62.703125 7.8125 59.421875 \r\nL 7.8125 69.390625 \r\nQ 13.765625 71.78125 18.9375 73 \r\nQ 24.125 74.21875 28.421875 74.21875 \r\nQ 39.75 74.21875 46.484375 68.546875 \r\nQ 53.21875 62.890625 53.21875 53.421875 \r\nQ 53.21875 48.921875 51.53125 44.890625 \r\nQ 49.859375 40.875 45.40625 35.40625 \r\nQ 44.1875 33.984375 37.640625 27.21875 \r\nQ 31.109375 20.453125 19.1875 8.296875 \r\nz\r\n\" id=\"DejaVuSans-50\"/>\r\n       </defs>\r\n       <use xlink:href=\"#DejaVuSans-50\"/>\r\n       <use x=\"63.623047\" xlink:href=\"#DejaVuSans-48\"/>\r\n      </g>\r\n     </g>\r\n    </g>\r\n   </g>\r\n   <g id=\"matplotlib.axis_2\">\r\n    <g id=\"ytick_1\">\r\n     <g id=\"line2d_4\">\r\n      <defs>\r\n       <path d=\"M 0 0 \r\nL -3.5 0 \r\n\" id=\"m061b8ae891\" style=\"stroke:#000000;stroke-width:0.8;\"/>\r\n      </defs>\r\n      <g>\r\n       <use style=\"stroke:#000000;stroke-width:0.8;\" x=\"26.925\" xlink:href=\"#m061b8ae891\" y=\"10.999219\"/>\r\n      </g>\r\n     </g>\r\n     <g id=\"text_4\">\r\n      <!-- 0 -->\r\n      <g transform=\"translate(13.5625 14.798437)scale(0.1 -0.1)\">\r\n       <use xlink:href=\"#DejaVuSans-48\"/>\r\n      </g>\r\n     </g>\r\n    </g>\r\n    <g id=\"ytick_2\">\r\n     <g id=\"line2d_5\">\r\n      <g>\r\n       <use style=\"stroke:#000000;stroke-width:0.8;\" x=\"26.925\" xlink:href=\"#m061b8ae891\" y=\"46.167286\"/>\r\n      </g>\r\n     </g>\r\n     <g id=\"text_5\">\r\n      <!-- 10 -->\r\n      <g transform=\"translate(7.2 49.966505)scale(0.1 -0.1)\">\r\n       <use xlink:href=\"#DejaVuSans-49\"/>\r\n       <use x=\"63.623047\" xlink:href=\"#DejaVuSans-48\"/>\r\n      </g>\r\n     </g>\r\n    </g>\r\n    <g id=\"ytick_3\">\r\n     <g id=\"line2d_6\">\r\n      <g>\r\n       <use style=\"stroke:#000000;stroke-width:0.8;\" x=\"26.925\" xlink:href=\"#m061b8ae891\" y=\"81.335353\"/>\r\n      </g>\r\n     </g>\r\n     <g id=\"text_6\">\r\n      <!-- 20 -->\r\n      <g transform=\"translate(7.2 85.134572)scale(0.1 -0.1)\">\r\n       <use xlink:href=\"#DejaVuSans-50\"/>\r\n       <use x=\"63.623047\" xlink:href=\"#DejaVuSans-48\"/>\r\n      </g>\r\n     </g>\r\n    </g>\r\n   </g>\r\n   <g id=\"patch_3\">\r\n    <path d=\"M 26.925 107.711404 \r\nL 26.925 9.240815 \r\n\" style=\"fill:none;stroke:#000000;stroke-linecap:square;stroke-linejoin:miter;stroke-width:0.8;\"/>\r\n   </g>\r\n   <g id=\"patch_4\">\r\n    <path d=\"M 125.395588 107.711404 \r\nL 125.395588 9.240815 \r\n\" style=\"fill:none;stroke:#000000;stroke-linecap:square;stroke-linejoin:miter;stroke-width:0.8;\"/>\r\n   </g>\r\n   <g id=\"patch_5\">\r\n    <path d=\"M 26.925 107.711404 \r\nL 125.395588 107.711404 \r\n\" style=\"fill:none;stroke:#000000;stroke-linecap:square;stroke-linejoin:miter;stroke-width:0.8;\"/>\r\n   </g>\r\n   <g id=\"patch_6\">\r\n    <path d=\"M 26.925 9.240815 \r\nL 125.395588 9.240815 \r\n\" style=\"fill:none;stroke:#000000;stroke-linecap:square;stroke-linejoin:miter;stroke-width:0.8;\"/>\r\n   </g>\r\n  </g>\r\n  <g id=\"axes_2\">\r\n   <g id=\"patch_7\">\r\n    <path d=\"M 145.089706 107.711404 \r\nL 243.560294 107.711404 \r\nL 243.560294 9.240815 \r\nL 145.089706 9.240815 \r\nz\r\n\" style=\"fill:#ffffff;\"/>\r\n   </g>\r\n   <g clip-path=\"url(#pfbad3ee5be)\">\r\n    <image height=\"99\" id=\"image9bbb85b320\" transform=\"scale(1 -1)translate(0 -99)\" width=\"99\" x=\"145.089706\" xlink:href=\"data:image/png;base64,\r\niVBORw0KGgoAAAANSUhEUgAAAGMAAABjCAYAAACPO76VAAAD4UlEQVR4nO2czSttURjGl+vjpNRRBlJKmRIGpIzFCBNl6C9Q8jnykWJKGZgZMPGRj5SBkXTKR5kYiMmpk4kUSiQ5uHf23vWu2jr2PXudh/v8Rs/bu/dZq57etdbZe+2VZ4z5bQgEv3LdAfIXmgEEzQCCZgBBM4CgGUDQDCBoBhA0AwiaAQTNAIJmAEEzgKAZQNAMIGgGEDQDiIJcd2BkZER0YWFhxvfV1NSI7unpyfi+xcVFFadSqcBrNzY2RF9eXmbcRlhYGUDQDCDyjOcNCZubmyru6ury2fyXeHt7E/3x8RF43c7OjopPT08Dr00kEqKPj49VjpUBBM0AgmYA4X3OeHl5UfFXlrNhWV9fF319fa1y5eXlor+yRA7L+Pi46OnpaZVjZQBBM4CAHqbq6upE39zchG7z4eFBdDqdDmw/Ho8H/kZpaamKBwYGMmr7/f1dxaOjo6Kfn59VjpUBBM0AgmYAAT1nVFZWinaXpD8RVgYQNAMI78PUzMyMiu2lnsv29rbo3t5elXt6espqvxBgZQBBM4CgGUB4nzPKyspUvLu7K7qpqSnwvrm5ORUPDg5mtV8IsDKAoBlAeN83dXd3p2J7qbu2tqZy9r/zhoYGlSspKRH9U5a5rAwgaAYQNAMI70vbzzg8PFRxc3Nz4LX2UvenLHNZGUDQDCBoBhBQc0ZFRYWKz87ORLuPUW5vb0W3tLSoXDKZjKB30cPKAIJmAAE1TLnYb/ra2tpULhaLiV5aWlK5vr4+FX+XxyWsDCBoBhA0AwjoOcNmcnJSxWNjY4HXzs/Pq7i/vz+CHmUfVgYQNAOInJ+QkCnu57yvr6+ii4qKVM79HGxra0v0wcFBBL3LDqwMIGgGEDQDiG+ztHUZHh4WPTU1pXLuHHJyciK6tbVV5dzv6nIJKwMImgGE92GqqqpKxY+Pj6Lv7+9D/ab9EsoYY2prawOvdYep/f39UG1GASsDCJoBBM0AwsvjkI6ODtHuSWwXFxei29vbVS7Tz41XVlZUPDExoWIfJ/dkA1YGEDQDCC9L28bGRtHuftr8/HzR5+fnKtfZ2Sna3idljN5k4P7jdg9irK+vFz07O6tyQ0NDn/bdJ6wMIGgGEDQDCC9LW/stnf3WzRhjuru7Rdvnmxuj98y6Z5Hv7e2Jrq6uVjl7jnBxvylEgpUBBM0AIucvl1ZXV0XbQ1Y2sYc796nt1dVVJG2GgZUBBM0AgmYAkfM5w8Z9NFFcXCzaPnDYmM/nl4WFBRUfHR2JXl5e/pcuRgorAwiaAQTUMPW/w8oAgmYAQTOAoBlA0AwgaAYQNAMImgEEzQCCZgDxB9Ux7tSrWBZVAAAAAElFTkSuQmCC\" y=\"-8.711404\"/>\r\n   </g>\r\n   <g id=\"matplotlib.axis_3\">\r\n    <g id=\"xtick_4\">\r\n     <g id=\"line2d_7\">\r\n      <g>\r\n       <use style=\"stroke:#000000;stroke-width:0.8;\" x=\"146.848109\" xlink:href=\"#m683548f247\" y=\"107.711404\"/>\r\n      </g>\r\n     </g>\r\n     <g id=\"text_7\">\r\n      <!-- 0 -->\r\n      <g transform=\"translate(143.666859 122.309841)scale(0.1 -0.1)\">\r\n       <use xlink:href=\"#DejaVuSans-48\"/>\r\n      </g>\r\n     </g>\r\n    </g>\r\n    <g id=\"xtick_5\">\r\n     <g id=\"line2d_8\">\r\n      <g>\r\n       <use style=\"stroke:#000000;stroke-width:0.8;\" x=\"182.016176\" xlink:href=\"#m683548f247\" y=\"107.711404\"/>\r\n      </g>\r\n     </g>\r\n     <g id=\"text_8\">\r\n      <!-- 10 -->\r\n      <g transform=\"translate(175.653676 122.309841)scale(0.1 -0.1)\">\r\n       <use xlink:href=\"#DejaVuSans-49\"/>\r\n       <use x=\"63.623047\" xlink:href=\"#DejaVuSans-48\"/>\r\n      </g>\r\n     </g>\r\n    </g>\r\n    <g id=\"xtick_6\">\r\n     <g id=\"line2d_9\">\r\n      <g>\r\n       <use style=\"stroke:#000000;stroke-width:0.8;\" x=\"217.184244\" xlink:href=\"#m683548f247\" y=\"107.711404\"/>\r\n      </g>\r\n     </g>\r\n     <g id=\"text_9\">\r\n      <!-- 20 -->\r\n      <g transform=\"translate(210.821744 122.309841)scale(0.1 -0.1)\">\r\n       <use xlink:href=\"#DejaVuSans-50\"/>\r\n       <use x=\"63.623047\" xlink:href=\"#DejaVuSans-48\"/>\r\n      </g>\r\n     </g>\r\n    </g>\r\n   </g>\r\n   <g id=\"matplotlib.axis_4\">\r\n    <g id=\"ytick_4\">\r\n     <g id=\"line2d_10\">\r\n      <g>\r\n       <use style=\"stroke:#000000;stroke-width:0.8;\" x=\"145.089706\" xlink:href=\"#m061b8ae891\" y=\"10.999219\"/>\r\n      </g>\r\n     </g>\r\n     <g id=\"text_10\">\r\n      <!-- 0 -->\r\n      <g transform=\"translate(131.727206 14.798437)scale(0.1 -0.1)\">\r\n       <use xlink:href=\"#DejaVuSans-48\"/>\r\n      </g>\r\n     </g>\r\n    </g>\r\n    <g id=\"ytick_5\">\r\n     <g id=\"line2d_11\">\r\n      <g>\r\n       <use style=\"stroke:#000000;stroke-width:0.8;\" x=\"145.089706\" xlink:href=\"#m061b8ae891\" y=\"46.167286\"/>\r\n      </g>\r\n     </g>\r\n     <g id=\"text_11\">\r\n      <!-- 10 -->\r\n      <g transform=\"translate(125.364706 49.966505)scale(0.1 -0.1)\">\r\n       <use xlink:href=\"#DejaVuSans-49\"/>\r\n       <use x=\"63.623047\" xlink:href=\"#DejaVuSans-48\"/>\r\n      </g>\r\n     </g>\r\n    </g>\r\n    <g id=\"ytick_6\">\r\n     <g id=\"line2d_12\">\r\n      <g>\r\n       <use style=\"stroke:#000000;stroke-width:0.8;\" x=\"145.089706\" xlink:href=\"#m061b8ae891\" y=\"81.335353\"/>\r\n      </g>\r\n     </g>\r\n     <g id=\"text_12\">\r\n      <!-- 20 -->\r\n      <g transform=\"translate(125.364706 85.134572)scale(0.1 -0.1)\">\r\n       <use xlink:href=\"#DejaVuSans-50\"/>\r\n       <use x=\"63.623047\" xlink:href=\"#DejaVuSans-48\"/>\r\n      </g>\r\n     </g>\r\n    </g>\r\n   </g>\r\n   <g id=\"patch_8\">\r\n    <path d=\"M 145.089706 107.711404 \r\nL 145.089706 9.240815 \r\n\" style=\"fill:none;stroke:#000000;stroke-linecap:square;stroke-linejoin:miter;stroke-width:0.8;\"/>\r\n   </g>\r\n   <g id=\"patch_9\">\r\n    <path d=\"M 243.560294 107.711404 \r\nL 243.560294 9.240815 \r\n\" style=\"fill:none;stroke:#000000;stroke-linecap:square;stroke-linejoin:miter;stroke-width:0.8;\"/>\r\n   </g>\r\n   <g id=\"patch_10\">\r\n    <path d=\"M 145.089706 107.711404 \r\nL 243.560294 107.711404 \r\n\" style=\"fill:none;stroke:#000000;stroke-linecap:square;stroke-linejoin:miter;stroke-width:0.8;\"/>\r\n   </g>\r\n   <g id=\"patch_11\">\r\n    <path d=\"M 145.089706 9.240815 \r\nL 243.560294 9.240815 \r\n\" style=\"fill:none;stroke:#000000;stroke-linecap:square;stroke-linejoin:miter;stroke-width:0.8;\"/>\r\n   </g>\r\n  </g>\r\n  <g id=\"axes_3\">\r\n   <g id=\"patch_12\">\r\n    <path d=\"M 263.254412 107.711404 \r\nL 361.725 107.711404 \r\nL 361.725 9.240815 \r\nL 263.254412 9.240815 \r\nz\r\n\" style=\"fill:#ffffff;\"/>\r\n   </g>\r\n   <g clip-path=\"url(#paae2776284)\">\r\n    <image height=\"99\" id=\"imagecf67126d3d\" transform=\"scale(1 -1)translate(0 -99)\" width=\"99\" x=\"263.254412\" xlink:href=\"data:image/png;base64,\r\niVBORw0KGgoAAAANSUhEUgAAAGMAAABjCAYAAACPO76VAAACz0lEQVR4nO3cv2oqQRQG8I1eKwuxEATtxTcQtBFrEVEQfAHBRrDwFQTxSWws/NOKaCmo2FhqJzZWio0k3WTOoLk31+z67eb7VWc4KQa+nJ1ho3mzLOvdIgi+V2+APjEMIAwDCMMAwjCAMAwgDAMIwwDCMIAwDCAMAwjDAMIwgPx59QZ0gUBArKfTqaqPx6PoVatVVV8uF3s35hBOBhCGAYRhAIE+M8LhsKpTqZToNRoNVbfbbXs35hBOBhCGAQTqMWVeUcfjsaoTiYTolctlVXc6HdG73W427M5+nAwgDAMIwwDyZgF/iC2Tyah6MpmInt/vV3UulxM982fdgpMBhGEAgbramubzuaoPh4PoxWIxp7djO04GEIYBhGEAgT4zdMPhUKxrtZqq8/m86PFqS09jGEBc85ja7/cPe/ofodyMkwGEYQBhGECg39rqotGoWK9WK1WfTifRSyaTTmzpx3EygDAMIK652ppvbWezmapLpZLoFYtFse73+/Zt7AdxMoAwDCAMA4hrzgzTer1Wtf6Btntrnhn0bQwDCMMA4prXISb9+xqj0Uj0drudWKfTaVVfr1db9/UMTgYQhgHEtY8pXbfbFetmsynWhUJB1YPBwJE9/Q9OBhCGAYRhAHHt6xDdZrP5st9qtVTNM4P+CcMA4onHlP7fd+6JRCIO7eQ5nAwgDAMIwwDiiTPDfEu7WCzEWj8zgsGg6J3PZ9v29V2cDCAMA4gn3tqazA8k9Ho9VWezWdH727XYSZwMIAwDCMMA4omrrWm73Yq1fn2tVCqixzOD7mIYQDx5tTXp//e2Xq+LXigUcno7D3EygDAMIAwDiCevtib9a8rmW1v9+3+v/h4HJwMIwwDyKx5Ty+VS1T6f/P2Lx+NOb+chTgYQhgGEYQD5Fa9D3IKTAYRhAGEYQBgGEIYBhGEAYRhAGAYQhgGEYQBhGEAYBhCGAeQDE2+Ee5yUXB8AAAAASUVORK5CYII=\" y=\"-8.711404\"/>\r\n   </g>\r\n   <g id=\"matplotlib.axis_5\">\r\n    <g id=\"xtick_7\">\r\n     <g id=\"line2d_13\">\r\n      <g>\r\n       <use style=\"stroke:#000000;stroke-width:0.8;\" x=\"265.012815\" xlink:href=\"#m683548f247\" y=\"107.711404\"/>\r\n      </g>\r\n     </g>\r\n     <g id=\"text_13\">\r\n      <!-- 0 -->\r\n      <g transform=\"translate(261.831565 122.309841)scale(0.1 -0.1)\">\r\n       <use xlink:href=\"#DejaVuSans-48\"/>\r\n      </g>\r\n     </g>\r\n    </g>\r\n    <g id=\"xtick_8\">\r\n     <g id=\"line2d_14\">\r\n      <g>\r\n       <use style=\"stroke:#000000;stroke-width:0.8;\" x=\"300.180882\" xlink:href=\"#m683548f247\" y=\"107.711404\"/>\r\n      </g>\r\n     </g>\r\n     <g id=\"text_14\">\r\n      <!-- 10 -->\r\n      <g transform=\"translate(293.818382 122.309841)scale(0.1 -0.1)\">\r\n       <use xlink:href=\"#DejaVuSans-49\"/>\r\n       <use x=\"63.623047\" xlink:href=\"#DejaVuSans-48\"/>\r\n      </g>\r\n     </g>\r\n    </g>\r\n    <g id=\"xtick_9\">\r\n     <g id=\"line2d_15\">\r\n      <g>\r\n       <use style=\"stroke:#000000;stroke-width:0.8;\" x=\"335.34895\" xlink:href=\"#m683548f247\" y=\"107.711404\"/>\r\n      </g>\r\n     </g>\r\n     <g id=\"text_15\">\r\n      <!-- 20 -->\r\n      <g transform=\"translate(328.98645 122.309841)scale(0.1 -0.1)\">\r\n       <use xlink:href=\"#DejaVuSans-50\"/>\r\n       <use x=\"63.623047\" xlink:href=\"#DejaVuSans-48\"/>\r\n      </g>\r\n     </g>\r\n    </g>\r\n   </g>\r\n   <g id=\"matplotlib.axis_6\">\r\n    <g id=\"ytick_7\">\r\n     <g id=\"line2d_16\">\r\n      <g>\r\n       <use style=\"stroke:#000000;stroke-width:0.8;\" x=\"263.254412\" xlink:href=\"#m061b8ae891\" y=\"10.999219\"/>\r\n      </g>\r\n     </g>\r\n     <g id=\"text_16\">\r\n      <!-- 0 -->\r\n      <g transform=\"translate(249.891912 14.798437)scale(0.1 -0.1)\">\r\n       <use xlink:href=\"#DejaVuSans-48\"/>\r\n      </g>\r\n     </g>\r\n    </g>\r\n    <g id=\"ytick_8\">\r\n     <g id=\"line2d_17\">\r\n      <g>\r\n       <use style=\"stroke:#000000;stroke-width:0.8;\" x=\"263.254412\" xlink:href=\"#m061b8ae891\" y=\"46.167286\"/>\r\n      </g>\r\n     </g>\r\n     <g id=\"text_17\">\r\n      <!-- 10 -->\r\n      <g transform=\"translate(243.529412 49.966505)scale(0.1 -0.1)\">\r\n       <use xlink:href=\"#DejaVuSans-49\"/>\r\n       <use x=\"63.623047\" xlink:href=\"#DejaVuSans-48\"/>\r\n      </g>\r\n     </g>\r\n    </g>\r\n    <g id=\"ytick_9\">\r\n     <g id=\"line2d_18\">\r\n      <g>\r\n       <use style=\"stroke:#000000;stroke-width:0.8;\" x=\"263.254412\" xlink:href=\"#m061b8ae891\" y=\"81.335353\"/>\r\n      </g>\r\n     </g>\r\n     <g id=\"text_18\">\r\n      <!-- 20 -->\r\n      <g transform=\"translate(243.529412 85.134572)scale(0.1 -0.1)\">\r\n       <use xlink:href=\"#DejaVuSans-50\"/>\r\n       <use x=\"63.623047\" xlink:href=\"#DejaVuSans-48\"/>\r\n      </g>\r\n     </g>\r\n    </g>\r\n   </g>\r\n   <g id=\"patch_13\">\r\n    <path d=\"M 263.254412 107.711404 \r\nL 263.254412 9.240815 \r\n\" style=\"fill:none;stroke:#000000;stroke-linecap:square;stroke-linejoin:miter;stroke-width:0.8;\"/>\r\n   </g>\r\n   <g id=\"patch_14\">\r\n    <path d=\"M 361.725 107.711404 \r\nL 361.725 9.240815 \r\n\" style=\"fill:none;stroke:#000000;stroke-linecap:square;stroke-linejoin:miter;stroke-width:0.8;\"/>\r\n   </g>\r\n   <g id=\"patch_15\">\r\n    <path d=\"M 263.254412 107.711404 \r\nL 361.725 107.711404 \r\n\" style=\"fill:none;stroke:#000000;stroke-linecap:square;stroke-linejoin:miter;stroke-width:0.8;\"/>\r\n   </g>\r\n   <g id=\"patch_16\">\r\n    <path d=\"M 263.254412 9.240815 \r\nL 361.725 9.240815 \r\n\" style=\"fill:none;stroke:#000000;stroke-linecap:square;stroke-linejoin:miter;stroke-width:0.8;\"/>\r\n   </g>\r\n  </g>\r\n  <g id=\"axes_4\">\r\n   <g id=\"patch_17\">\r\n    <path d=\"M 26.925 226.31504 \r\nL 125.395588 226.31504 \r\nL 125.395588 127.844452 \r\nL 26.925 127.844452 \r\nz\r\n\" style=\"fill:#ffffff;\"/>\r\n   </g>\r\n   <g clip-path=\"url(#pcd36af35ae)\">\r\n    <image height=\"99\" id=\"image41b77a281b\" transform=\"scale(1 -1)translate(0 -99)\" width=\"99\" x=\"26.925\" xlink:href=\"data:image/png;base64,\r\niVBORw0KGgoAAAANSUhEUgAAAGMAAABjCAYAAACPO76VAAAEBElEQVR4nO2czSt9QRjH5/LzH7CxQChl6yULL2WFkJTcje6OhZCllNhYykZEWUqKhCQ7pbgLC5vrZcdGwkLJystv95hn6txuxznjG9/P6js9585MfT1zxsyZSRhjPg2BIO+nO0C+oBlA0AwgaAYQNAMImgEEzQCCZgBBM4CgGUDQDCBoBhA0A4h/P90Bm7a2NlUeHBwU3dXVpWI7Ozuil5eXVSyRSKhyJpMRfXt7++1+xgUzAwiaAQTNACJhPO/0NTc3q3JPT4/osbExFfv4+AjVRl6e/hsbHR0VvbCwEKpOHzAzgKAZQHgZpkpLS0WfnJyoWFFRkWh3eIlqmLq/vxd9cXGhYvb0+e7uTsVeX19DtR8WZgYQNAMImgGEl+WQ3t5e0fY7whd2m277l5eXopeWllRsZGQk3o45MDOAoBlAeJnaXl9fi66oqAh8rrOzMzDmrswWFxcHPhvVFDk/Pz/U78LCzACCZgBBM4Dw8s64uroSXV5eHvhcQUFBJO3t7++rclVVleiSkpKc6zk4OBDt7jTGATMDCJoBBNQHCVHR0dGhyvPz86KHh4dzrqe6ulp0Y2Ojih0fH4frXBaYGUDQDCBoBhC/cmrrYq/U2u8BY4xZX18XXVhYqGL2soq9W2iMMQ0NDaKj+jCOmQEEzQDCy9R2d3dXtPttlA8eHh5EHx0dqdjs7Kzoubm5wDrcTak4hlRmBhA0AwiaAYSXqW1lZaVoe5rr4ntnzRhjysrKRG9sbKhYXV2daHe3cG1tTfTAwEAkfWFmAEEzgKAZQHhfQs/2pUY6nVblvr4+0XGdxfv8/Hplun2zy25seno68r4wM4CgGUBA7fTV1taq8urqquhkMqlij4+PkbTZ3d0tuqamJpI6w8LMAIJmAEEzgPDyznh7exPtjvXu7ppNS0uL6NPTUxXb3NwUPTMzo2LZzuLZ5wuNMWZiYiLwWbueqakpFYtjqs3MAIJmAOH9hgR76DFGT1/tFVRjcj9X4R7/Ojw8VOXn52fRra2tKjY5ORlYr32zwuLiYk59+Q7MDCBoBhA0Awjv7wwX+yxFe3u7ioU9i/f09KTKLy8vot2pbTZ4pu8PQzOA+PFhyub9/V2Vo7pVJ1s9Nzc3ovv7+1Xs7OwsVPthYWYAQTOAoBlAQO30jY+Pq7J9mWRTU1Poere2tkS7Z/HOz89F+35HuDAzgKAZQEBNbV3sMxHb29sqVl9fH/g73mtLvg3NAIJmAAE1tXWxz+KlUikVcy8L/g0wM4CgGUBAD1M27j3lKysrooeGhlTM/U96b28vvo5FCDMDCJoBBM0AAno55K/BzACCZgBBM4CgGUDQDCBoBhA0AwiaAQTNAIJmAEEzgKAZQNAMIP4DQnb+gvzBgNoAAAAASUVORK5CYII=\" y=\"-127.31504\"/>\r\n   </g>\r\n   <g id=\"matplotlib.axis_7\">\r\n    <g id=\"xtick_10\">\r\n     <g id=\"line2d_19\">\r\n      <g>\r\n       <use style=\"stroke:#000000;stroke-width:0.8;\" x=\"28.683403\" xlink:href=\"#m683548f247\" y=\"226.31504\"/>\r\n      </g>\r\n     </g>\r\n     <g id=\"text_19\">\r\n      <!-- 0 -->\r\n      <g transform=\"translate(25.502153 240.913477)scale(0.1 -0.1)\">\r\n       <use xlink:href=\"#DejaVuSans-48\"/>\r\n      </g>\r\n     </g>\r\n    </g>\r\n    <g id=\"xtick_11\">\r\n     <g id=\"line2d_20\">\r\n      <g>\r\n       <use style=\"stroke:#000000;stroke-width:0.8;\" x=\"63.851471\" xlink:href=\"#m683548f247\" y=\"226.31504\"/>\r\n      </g>\r\n     </g>\r\n     <g id=\"text_20\">\r\n      <!-- 10 -->\r\n      <g transform=\"translate(57.488971 240.913477)scale(0.1 -0.1)\">\r\n       <use xlink:href=\"#DejaVuSans-49\"/>\r\n       <use x=\"63.623047\" xlink:href=\"#DejaVuSans-48\"/>\r\n      </g>\r\n     </g>\r\n    </g>\r\n    <g id=\"xtick_12\">\r\n     <g id=\"line2d_21\">\r\n      <g>\r\n       <use style=\"stroke:#000000;stroke-width:0.8;\" x=\"99.019538\" xlink:href=\"#m683548f247\" y=\"226.31504\"/>\r\n      </g>\r\n     </g>\r\n     <g id=\"text_21\">\r\n      <!-- 20 -->\r\n      <g transform=\"translate(92.657038 240.913477)scale(0.1 -0.1)\">\r\n       <use xlink:href=\"#DejaVuSans-50\"/>\r\n       <use x=\"63.623047\" xlink:href=\"#DejaVuSans-48\"/>\r\n      </g>\r\n     </g>\r\n    </g>\r\n   </g>\r\n   <g id=\"matplotlib.axis_8\">\r\n    <g id=\"ytick_10\">\r\n     <g id=\"line2d_22\">\r\n      <g>\r\n       <use style=\"stroke:#000000;stroke-width:0.8;\" x=\"26.925\" xlink:href=\"#m061b8ae891\" y=\"129.602855\"/>\r\n      </g>\r\n     </g>\r\n     <g id=\"text_22\">\r\n      <!-- 0 -->\r\n      <g transform=\"translate(13.5625 133.402074)scale(0.1 -0.1)\">\r\n       <use xlink:href=\"#DejaVuSans-48\"/>\r\n      </g>\r\n     </g>\r\n    </g>\r\n    <g id=\"ytick_11\">\r\n     <g id=\"line2d_23\">\r\n      <g>\r\n       <use style=\"stroke:#000000;stroke-width:0.8;\" x=\"26.925\" xlink:href=\"#m061b8ae891\" y=\"164.770922\"/>\r\n      </g>\r\n     </g>\r\n     <g id=\"text_23\">\r\n      <!-- 10 -->\r\n      <g transform=\"translate(7.2 168.570141)scale(0.1 -0.1)\">\r\n       <use xlink:href=\"#DejaVuSans-49\"/>\r\n       <use x=\"63.623047\" xlink:href=\"#DejaVuSans-48\"/>\r\n      </g>\r\n     </g>\r\n    </g>\r\n    <g id=\"ytick_12\">\r\n     <g id=\"line2d_24\">\r\n      <g>\r\n       <use style=\"stroke:#000000;stroke-width:0.8;\" x=\"26.925\" xlink:href=\"#m061b8ae891\" y=\"199.93899\"/>\r\n      </g>\r\n     </g>\r\n     <g id=\"text_24\">\r\n      <!-- 20 -->\r\n      <g transform=\"translate(7.2 203.738208)scale(0.1 -0.1)\">\r\n       <use xlink:href=\"#DejaVuSans-50\"/>\r\n       <use x=\"63.623047\" xlink:href=\"#DejaVuSans-48\"/>\r\n      </g>\r\n     </g>\r\n    </g>\r\n   </g>\r\n   <g id=\"patch_18\">\r\n    <path d=\"M 26.925 226.31504 \r\nL 26.925 127.844452 \r\n\" style=\"fill:none;stroke:#000000;stroke-linecap:square;stroke-linejoin:miter;stroke-width:0.8;\"/>\r\n   </g>\r\n   <g id=\"patch_19\">\r\n    <path d=\"M 125.395588 226.31504 \r\nL 125.395588 127.844452 \r\n\" style=\"fill:none;stroke:#000000;stroke-linecap:square;stroke-linejoin:miter;stroke-width:0.8;\"/>\r\n   </g>\r\n   <g id=\"patch_20\">\r\n    <path d=\"M 26.925 226.31504 \r\nL 125.395588 226.31504 \r\n\" style=\"fill:none;stroke:#000000;stroke-linecap:square;stroke-linejoin:miter;stroke-width:0.8;\"/>\r\n   </g>\r\n   <g id=\"patch_21\">\r\n    <path d=\"M 26.925 127.844452 \r\nL 125.395588 127.844452 \r\n\" style=\"fill:none;stroke:#000000;stroke-linecap:square;stroke-linejoin:miter;stroke-width:0.8;\"/>\r\n   </g>\r\n  </g>\r\n  <g id=\"axes_5\">\r\n   <g id=\"patch_22\">\r\n    <path d=\"M 145.089706 226.31504 \r\nL 243.560294 226.31504 \r\nL 243.560294 127.844452 \r\nL 145.089706 127.844452 \r\nz\r\n\" style=\"fill:#ffffff;\"/>\r\n   </g>\r\n   <g clip-path=\"url(#p874d6eb439)\">\r\n    <image height=\"99\" id=\"image8d44a9ad69\" transform=\"scale(1 -1)translate(0 -99)\" width=\"99\" x=\"145.089706\" xlink:href=\"data:image/png;base64,\r\niVBORw0KGgoAAAANSUhEUgAAAGMAAABjCAYAAACPO76VAAADqklEQVR4nO2dO0hjQRSGJxIQCxsR0U40RQoFIZVgagULC20shHRWigRsLLWwUkgh6WxVtBFBsdJS0DJqZZFClPioDCoGs91xzmwibnDm/mz+rzrDWe498O25M5n7MGaMqRoCQUvUBZAvKAMIygCCMoCgDCAoAwjKAIIygKAMICgDiHjUBYTg4OBA4vX1dZU7OTkJXU5d2BlAUAYQMdMEu7b39/cSx+P6yryysiJxLpcLVlMt2BlAUAYQlAFEU8wZq6urEi8uLqrc6+urxO3t7cFqqgU7AwjKAKIpfoG/vb3VzbW1tQWs5HvYGUBQBhCUAURTzBmxWKxmjAY7AwjKAKIpLlPVarVm7DIwMKDGhULBW021YGcAQRlAUAYQkc8ZQ0NDEicSiYaOsbe3922+r6/vR8cJPUe4sDOAoAwgglymksmkxMvLyyo3Pj4ucWtra0PHf3x8VGN3+drZ2fmj47g7uPaNpxCwM4CgDCAoA4ggDyTs7OxIPDk5qXLn5+cSu8/B/hR3G8Ndyvb29ko8PDxc9zhzc3NqnM/nG6qnUdgZQFAGEF6Wtu4Ssb+/X+LLy0uVs5e2z8/PDZ1vd3f323xXV5fEd3d3df9dS0u0/zfZGUBQBhCUAYSXOcN9ZtXemd3a2lK5RueJf6FUKkns7vDaS+2RkRGV29jY8FuYAzsDCMoAgjKA8DJnvL+/q/Ht7a3E09PTKjczM+OjhLrc3NzUzbnbKqFhZwBBGUBEvmtr75SG2CW1d3CNMebs7Ezijo4OlRsdHZU4xJcU2BlAUAYQlAFEkDljampK4s3NTZUrFosSDw4O+i7lL9bW1iReWFhQudPTU4nHxsZU7uPj49drYWcAQRlABP9Cwvb2thpPTExInE6nVe7i4sJ7PfZy9unpSeU+Pz8l7u7uVrmHh4dfr4WdAQRlAEEZQASfM9ydUXv56F6zU6mUxC8vL17rcmsxRt/56+npUTnOGf85lAFE8NfI3Fe17JtNR0dHKre0tFQz9sX+/r4auw8o+IadAQRlAEEZQET+wUj7o7/u3TT7VWR3aemDTCajxtlsVmL3vY5yufzr52dnAEEZQET+hYRKpSLx4eGhys3Pzwetxf7Fb4wxV1dXEvu4LLmwM4CgDCAoA4jI5wyb4+NjNZ6dnQ16fvvPARljzPX1ddDzszOAoAwgIv8FTr5gZwBBGUBQBhCUAQRlAEEZQFAGEJQBBGUAQRlAUAYQlAEEZQBBGUBQBhCUAQRlAPEHlzjMb/5nTekAAAAASUVORK5CYII=\" y=\"-127.31504\"/>\r\n   </g>\r\n   <g id=\"matplotlib.axis_9\">\r\n    <g id=\"xtick_13\">\r\n     <g id=\"line2d_25\">\r\n      <g>\r\n       <use style=\"stroke:#000000;stroke-width:0.8;\" x=\"146.848109\" xlink:href=\"#m683548f247\" y=\"226.31504\"/>\r\n      </g>\r\n     </g>\r\n     <g id=\"text_25\">\r\n      <!-- 0 -->\r\n      <g transform=\"translate(143.666859 240.913477)scale(0.1 -0.1)\">\r\n       <use xlink:href=\"#DejaVuSans-48\"/>\r\n      </g>\r\n     </g>\r\n    </g>\r\n    <g id=\"xtick_14\">\r\n     <g id=\"line2d_26\">\r\n      <g>\r\n       <use style=\"stroke:#000000;stroke-width:0.8;\" x=\"182.016176\" xlink:href=\"#m683548f247\" y=\"226.31504\"/>\r\n      </g>\r\n     </g>\r\n     <g id=\"text_26\">\r\n      <!-- 10 -->\r\n      <g transform=\"translate(175.653676 240.913477)scale(0.1 -0.1)\">\r\n       <use xlink:href=\"#DejaVuSans-49\"/>\r\n       <use x=\"63.623047\" xlink:href=\"#DejaVuSans-48\"/>\r\n      </g>\r\n     </g>\r\n    </g>\r\n    <g id=\"xtick_15\">\r\n     <g id=\"line2d_27\">\r\n      <g>\r\n       <use style=\"stroke:#000000;stroke-width:0.8;\" x=\"217.184244\" xlink:href=\"#m683548f247\" y=\"226.31504\"/>\r\n      </g>\r\n     </g>\r\n     <g id=\"text_27\">\r\n      <!-- 20 -->\r\n      <g transform=\"translate(210.821744 240.913477)scale(0.1 -0.1)\">\r\n       <use xlink:href=\"#DejaVuSans-50\"/>\r\n       <use x=\"63.623047\" xlink:href=\"#DejaVuSans-48\"/>\r\n      </g>\r\n     </g>\r\n    </g>\r\n   </g>\r\n   <g id=\"matplotlib.axis_10\">\r\n    <g id=\"ytick_13\">\r\n     <g id=\"line2d_28\">\r\n      <g>\r\n       <use style=\"stroke:#000000;stroke-width:0.8;\" x=\"145.089706\" xlink:href=\"#m061b8ae891\" y=\"129.602855\"/>\r\n      </g>\r\n     </g>\r\n     <g id=\"text_28\">\r\n      <!-- 0 -->\r\n      <g transform=\"translate(131.727206 133.402074)scale(0.1 -0.1)\">\r\n       <use xlink:href=\"#DejaVuSans-48\"/>\r\n      </g>\r\n     </g>\r\n    </g>\r\n    <g id=\"ytick_14\">\r\n     <g id=\"line2d_29\">\r\n      <g>\r\n       <use style=\"stroke:#000000;stroke-width:0.8;\" x=\"145.089706\" xlink:href=\"#m061b8ae891\" y=\"164.770922\"/>\r\n      </g>\r\n     </g>\r\n     <g id=\"text_29\">\r\n      <!-- 10 -->\r\n      <g transform=\"translate(125.364706 168.570141)scale(0.1 -0.1)\">\r\n       <use xlink:href=\"#DejaVuSans-49\"/>\r\n       <use x=\"63.623047\" xlink:href=\"#DejaVuSans-48\"/>\r\n      </g>\r\n     </g>\r\n    </g>\r\n    <g id=\"ytick_15\">\r\n     <g id=\"line2d_30\">\r\n      <g>\r\n       <use style=\"stroke:#000000;stroke-width:0.8;\" x=\"145.089706\" xlink:href=\"#m061b8ae891\" y=\"199.93899\"/>\r\n      </g>\r\n     </g>\r\n     <g id=\"text_30\">\r\n      <!-- 20 -->\r\n      <g transform=\"translate(125.364706 203.738208)scale(0.1 -0.1)\">\r\n       <use xlink:href=\"#DejaVuSans-50\"/>\r\n       <use x=\"63.623047\" xlink:href=\"#DejaVuSans-48\"/>\r\n      </g>\r\n     </g>\r\n    </g>\r\n   </g>\r\n   <g id=\"patch_23\">\r\n    <path d=\"M 145.089706 226.31504 \r\nL 145.089706 127.844452 \r\n\" style=\"fill:none;stroke:#000000;stroke-linecap:square;stroke-linejoin:miter;stroke-width:0.8;\"/>\r\n   </g>\r\n   <g id=\"patch_24\">\r\n    <path d=\"M 243.560294 226.31504 \r\nL 243.560294 127.844452 \r\n\" style=\"fill:none;stroke:#000000;stroke-linecap:square;stroke-linejoin:miter;stroke-width:0.8;\"/>\r\n   </g>\r\n   <g id=\"patch_25\">\r\n    <path d=\"M 145.089706 226.31504 \r\nL 243.560294 226.31504 \r\n\" style=\"fill:none;stroke:#000000;stroke-linecap:square;stroke-linejoin:miter;stroke-width:0.8;\"/>\r\n   </g>\r\n   <g id=\"patch_26\">\r\n    <path d=\"M 145.089706 127.844452 \r\nL 243.560294 127.844452 \r\n\" style=\"fill:none;stroke:#000000;stroke-linecap:square;stroke-linejoin:miter;stroke-width:0.8;\"/>\r\n   </g>\r\n  </g>\r\n  <g id=\"axes_6\">\r\n   <g id=\"patch_27\">\r\n    <path d=\"M 263.254412 226.31504 \r\nL 361.725 226.31504 \r\nL 361.725 127.844452 \r\nL 263.254412 127.844452 \r\nz\r\n\" style=\"fill:#ffffff;\"/>\r\n   </g>\r\n   <g clip-path=\"url(#p81837d28ac)\">\r\n    <image height=\"99\" id=\"imagefb2f2f3cfa\" transform=\"scale(1 -1)translate(0 -99)\" width=\"99\" x=\"263.254412\" xlink:href=\"data:image/png;base64,\r\niVBORw0KGgoAAAANSUhEUgAAAGMAAABjCAYAAACPO76VAAADHklEQVR4nO2csWpqQRCGN3qjYpOQWIlYWWqlIKS30UJSx8JOFMEHEDt9BJ/AwkYs0gTbQCoVLGxTBFImxE5Igqbbu7MXvUhc/Y/8XzXDnIQhX2b3uOo5U0qtFYHAd+wGyF8oAwjKAIIygKAMICgDCMoAgjKAoAwgKAOIP8duYBvRaFTH7XZb1KbTqY673e7BenIJJwMIygACapny+/0i73Q6Oi6Xyxuv5TJF9g5lAEEZQEDtGT6f/N/IZDIbr00kEq7bOTicDCAoAwioZerr60vkz8/POk4mk6IWCoV0fH5+vvX3eAVOBhCUAQRlAAG1Z9iMRiMdF4tFUYvH4zq+uLgQtbe3N7eNOYKTAQRlAAG9TL2/v2+sRSIRHTcaDVFrtVrOenIJJwMIygCCMoA4U8Dfz4jFYjp+eXkRNfOEdz6fi1oqlXLbmCM4GUBQBhDQy5RJr9cTealU0vFisRC1XC4n8slk4qyvfcLJAIIygKAMIKCPQ0wGg4HIzT3j8vJS1CqVisi5Z5CdoQwgPLNM2Se4q9VKx/bnrexbW6/AyQCCMoCgDCA8cxxiYx6PmLe5Sv17PGKe4r6+vjrt6zdwMoCgDCAoAwjPvM6wMY847D3DPh6pVqs6bjabTvv6DZwMICgDCM/e2t7c3Oj46elp67UfHx86vrq6ctbTb+FkAEEZQFAGEJ7dM0zsPcPcT5RS6vPzU8fZbFbUZrOZs752hZMBBGUA4dlX4CaPj48it5epQCCgY/NJPUopVSgU3DW2I5wMICgDCMoA4iRube2n74zH443Xfn9/i9x+1MUx4WQAQRlAnMQyFQwGRW6/Ik+n0xt/Np/P6/jh4WG/je0IJwMIygCCMoA4iT3D5vb2VuTD4XDjtf1+X8d3d3eitl4f9k/DyQCCMoA4yWXq+vpa5OYbSOZTF2zC4bDIl8vlXvv6H5wMICgDCMoA4iTe6bOxv/9Xq9V0fH9/L2r1el3H5gcXjgEnAwjKAOIkb229CicDCMoAgjKAoAwgKAMIygCCMoCgDCAoAwjKAIIygKAMICgDCMoAgjKAoAwgKAOIHzrgkjG4xRxpAAAAAElFTkSuQmCC\" y=\"-127.31504\"/>\r\n   </g>\r\n   <g id=\"matplotlib.axis_11\">\r\n    <g id=\"xtick_16\">\r\n     <g id=\"line2d_31\">\r\n      <g>\r\n       <use style=\"stroke:#000000;stroke-width:0.8;\" x=\"265.012815\" xlink:href=\"#m683548f247\" y=\"226.31504\"/>\r\n      </g>\r\n     </g>\r\n     <g id=\"text_31\">\r\n      <!-- 0 -->\r\n      <g transform=\"translate(261.831565 240.913477)scale(0.1 -0.1)\">\r\n       <use xlink:href=\"#DejaVuSans-48\"/>\r\n      </g>\r\n     </g>\r\n    </g>\r\n    <g id=\"xtick_17\">\r\n     <g id=\"line2d_32\">\r\n      <g>\r\n       <use style=\"stroke:#000000;stroke-width:0.8;\" x=\"300.180882\" xlink:href=\"#m683548f247\" y=\"226.31504\"/>\r\n      </g>\r\n     </g>\r\n     <g id=\"text_32\">\r\n      <!-- 10 -->\r\n      <g transform=\"translate(293.818382 240.913477)scale(0.1 -0.1)\">\r\n       <use xlink:href=\"#DejaVuSans-49\"/>\r\n       <use x=\"63.623047\" xlink:href=\"#DejaVuSans-48\"/>\r\n      </g>\r\n     </g>\r\n    </g>\r\n    <g id=\"xtick_18\">\r\n     <g id=\"line2d_33\">\r\n      <g>\r\n       <use style=\"stroke:#000000;stroke-width:0.8;\" x=\"335.34895\" xlink:href=\"#m683548f247\" y=\"226.31504\"/>\r\n      </g>\r\n     </g>\r\n     <g id=\"text_33\">\r\n      <!-- 20 -->\r\n      <g transform=\"translate(328.98645 240.913477)scale(0.1 -0.1)\">\r\n       <use xlink:href=\"#DejaVuSans-50\"/>\r\n       <use x=\"63.623047\" xlink:href=\"#DejaVuSans-48\"/>\r\n      </g>\r\n     </g>\r\n    </g>\r\n   </g>\r\n   <g id=\"matplotlib.axis_12\">\r\n    <g id=\"ytick_16\">\r\n     <g id=\"line2d_34\">\r\n      <g>\r\n       <use style=\"stroke:#000000;stroke-width:0.8;\" x=\"263.254412\" xlink:href=\"#m061b8ae891\" y=\"129.602855\"/>\r\n      </g>\r\n     </g>\r\n     <g id=\"text_34\">\r\n      <!-- 0 -->\r\n      <g transform=\"translate(249.891912 133.402074)scale(0.1 -0.1)\">\r\n       <use xlink:href=\"#DejaVuSans-48\"/>\r\n      </g>\r\n     </g>\r\n    </g>\r\n    <g id=\"ytick_17\">\r\n     <g id=\"line2d_35\">\r\n      <g>\r\n       <use style=\"stroke:#000000;stroke-width:0.8;\" x=\"263.254412\" xlink:href=\"#m061b8ae891\" y=\"164.770922\"/>\r\n      </g>\r\n     </g>\r\n     <g id=\"text_35\">\r\n      <!-- 10 -->\r\n      <g transform=\"translate(243.529412 168.570141)scale(0.1 -0.1)\">\r\n       <use xlink:href=\"#DejaVuSans-49\"/>\r\n       <use x=\"63.623047\" xlink:href=\"#DejaVuSans-48\"/>\r\n      </g>\r\n     </g>\r\n    </g>\r\n    <g id=\"ytick_18\">\r\n     <g id=\"line2d_36\">\r\n      <g>\r\n       <use style=\"stroke:#000000;stroke-width:0.8;\" x=\"263.254412\" xlink:href=\"#m061b8ae891\" y=\"199.93899\"/>\r\n      </g>\r\n     </g>\r\n     <g id=\"text_36\">\r\n      <!-- 20 -->\r\n      <g transform=\"translate(243.529412 203.738208)scale(0.1 -0.1)\">\r\n       <use xlink:href=\"#DejaVuSans-50\"/>\r\n       <use x=\"63.623047\" xlink:href=\"#DejaVuSans-48\"/>\r\n      </g>\r\n     </g>\r\n    </g>\r\n   </g>\r\n   <g id=\"patch_28\">\r\n    <path d=\"M 263.254412 226.31504 \r\nL 263.254412 127.844452 \r\n\" style=\"fill:none;stroke:#000000;stroke-linecap:square;stroke-linejoin:miter;stroke-width:0.8;\"/>\r\n   </g>\r\n   <g id=\"patch_29\">\r\n    <path d=\"M 361.725 226.31504 \r\nL 361.725 127.844452 \r\n\" style=\"fill:none;stroke:#000000;stroke-linecap:square;stroke-linejoin:miter;stroke-width:0.8;\"/>\r\n   </g>\r\n   <g id=\"patch_30\">\r\n    <path d=\"M 263.254412 226.31504 \r\nL 361.725 226.31504 \r\n\" style=\"fill:none;stroke:#000000;stroke-linecap:square;stroke-linejoin:miter;stroke-width:0.8;\"/>\r\n   </g>\r\n   <g id=\"patch_31\">\r\n    <path d=\"M 263.254412 127.844452 \r\nL 361.725 127.844452 \r\n\" style=\"fill:none;stroke:#000000;stroke-linecap:square;stroke-linejoin:miter;stroke-width:0.8;\"/>\r\n   </g>\r\n  </g>\r\n </g>\r\n <defs>\r\n  <clipPath id=\"pac7a612d35\">\r\n   <rect height=\"98.470588\" width=\"98.470588\" x=\"26.925\" y=\"9.240815\"/>\r\n  </clipPath>\r\n  <clipPath id=\"pfbad3ee5be\">\r\n   <rect height=\"98.470588\" width=\"98.470588\" x=\"145.089706\" y=\"9.240815\"/>\r\n  </clipPath>\r\n  <clipPath id=\"paae2776284\">\r\n   <rect height=\"98.470588\" width=\"98.470588\" x=\"263.254412\" y=\"9.240815\"/>\r\n  </clipPath>\r\n  <clipPath id=\"pcd36af35ae\">\r\n   <rect height=\"98.470588\" width=\"98.470588\" x=\"26.925\" y=\"127.844452\"/>\r\n  </clipPath>\r\n  <clipPath id=\"p874d6eb439\">\r\n   <rect height=\"98.470588\" width=\"98.470588\" x=\"145.089706\" y=\"127.844452\"/>\r\n  </clipPath>\r\n  <clipPath id=\"p81837d28ac\">\r\n   <rect height=\"98.470588\" width=\"98.470588\" x=\"263.254412\" y=\"127.844452\"/>\r\n  </clipPath>\r\n </defs>\r\n</svg>\r\n",
      "image/png": "[encoded data removed]"
     },
     "metadata": {
      "needs_background": "light"
     }
    }
   ],
   "source": [
    "examples =iter(test_loader)\n",
    "example_data,example_targets=examples.next()\n",
    "for i in range(6):\n",
    "    plt.subplot(2,3,i+1)\n",
    "    plt.imshow(example_data[i][0],cmap='gray')\n",
    "#plt.show()\n",
    "img_grid = torchvision.utils.make_grid(example_data)\n",
    "Writer.add_image('mnist_images',img_grid)\n"
   ]
  },
  {
   "source": [
    "# CREATE MODEL CLASS"
   ],
   "cell_type": "markdown",
   "metadata": {}
  },
  {
   "cell_type": "code",
   "execution_count": 9,
   "metadata": {},
   "outputs": [],
   "source": [
    "class Feedforward_NN(nn.Module):\n",
    "    def __init__(self, input_dim, hidden_dim, output_dim):\n",
    "        super(Feedforward_NN, self).__init__()\n",
    "        # Linear function 1: 784 --> 100\n",
    "        self.fc1 = nn.Linear(input_dim, hidden_dim) \n",
    "        # Non-linearity 1\n",
    "        self.relu1 = nn.ReLU()\n",
    "\n",
    "        # Linear function 2: 100 --> 100\n",
    "        self.fc2 = nn.Linear(hidden_dim, hidden_dim)\n",
    "        # Non-linearity 2\n",
    "        self.relu2 = nn.ReLU()\n",
    "\n",
    "        # Linear function 3: 100 --> 100\n",
    "        self.fc3 = nn.Linear(hidden_dim, hidden_dim)\n",
    "        # Non-linearity 3\n",
    "        self.relu3 = nn.ReLU()\n",
    "\n",
    "        # Linear function 4 (readout): 100 --> 10\n",
    "        self.fc4 = nn.Linear(hidden_dim, output_dim)  \n",
    "\n",
    "    def forward(self, x):\n",
    "        # Linear function 1\n",
    "        out = self.fc1(x)\n",
    "        # Non-linearity 1\n",
    "        out = self.relu1(out)\n",
    "\n",
    "        # Linear function 2\n",
    "        out = self.fc2(out)\n",
    "        # Non-linearity 2\n",
    "        out = self.relu2(out)\n",
    "\n",
    "        # Linear function 2\n",
    "        out = self.fc3(out)\n",
    "        # Non-linearity 2\n",
    "        out = self.relu3(out)\n",
    "\n",
    "        # Linear function 4 (readout)\n",
    "        out = self.fc4(out)\n",
    "        #no activation and no softmax at end\n",
    "        return out"
   ]
  },
  {
   "source": [
    "# INSTANTIATE MODEL CLASS"
   ],
   "cell_type": "markdown",
   "metadata": {}
  },
  {
   "cell_type": "code",
   "execution_count": 10,
   "metadata": {},
   "outputs": [],
   "source": [
    "model = Feedforward_NN(input_dim, hidden_dim, output_dim).to(device)"
   ]
  },
  {
   "source": [
    "# INSTANTIATE LOSS & OPTIMIZER CLASS"
   ],
   "cell_type": "markdown",
   "metadata": {}
  },
  {
   "cell_type": "code",
   "execution_count": 11,
   "metadata": {},
   "outputs": [],
   "source": [
    "criterion = nn.CrossEntropyLoss()\n",
    "\n",
    "\n",
    "\n",
    "optimizer = torch.optim.SGD(model.parameters(), lr=learning_rate)"
   ]
  },
  {
   "cell_type": "code",
   "execution_count": 12,
   "metadata": {},
   "outputs": [],
   "source": [
    "Writer.add_graph(model, example_data.reshape(-1,784).to(device))\n",
    "Writer.close()\n",
    "#sys.exit()"
   ]
  },
  {
   "source": [
    "# TRAIN THE MODEL"
   ],
   "cell_type": "markdown",
   "metadata": {}
  },
  {
   "cell_type": "code",
   "execution_count": 13,
   "metadata": {},
   "outputs": [
    {
     "output_type": "stream",
     "name": "stdout",
     "text": [
      "Epoch [1/5], Step [100/938],Loss: 2.2929\n",
      "Epoch [1/5], Step [200/938],Loss: 2.2786\n",
      "Epoch [1/5], Step [300/938],Loss: 2.2723\n",
      "Epoch [1/5], Step [400/938],Loss: 2.2593\n",
      "Epoch [1/5], Step [500/938],Loss: 2.2315\n",
      "Epoch [1/5], Step [600/938],Loss: 2.1729\n",
      "Epoch [1/5], Step [700/938],Loss: 2.1027\n",
      "Epoch [1/5], Step [800/938],Loss: 1.9340\n",
      "Epoch [1/5], Step [900/938],Loss: 1.6964\n",
      "Epoch [2/5], Step [100/938],Loss: 1.1465\n",
      "Epoch [2/5], Step [200/938],Loss: 0.8801\n",
      "Epoch [2/5], Step [300/938],Loss: 0.7161\n",
      "Epoch [2/5], Step [400/938],Loss: 0.8530\n",
      "Epoch [2/5], Step [500/938],Loss: 0.7364\n",
      "Epoch [2/5], Step [600/938],Loss: 0.6524\n",
      "Epoch [2/5], Step [700/938],Loss: 0.5585\n",
      "Epoch [2/5], Step [800/938],Loss: 0.6557\n",
      "Epoch [2/5], Step [900/938],Loss: 0.4906\n",
      "Epoch [3/5], Step [100/938],Loss: 0.4910\n",
      "Epoch [3/5], Step [200/938],Loss: 0.3093\n",
      "Epoch [3/5], Step [300/938],Loss: 0.2540\n",
      "Epoch [3/5], Step [400/938],Loss: 0.3120\n",
      "Epoch [3/5], Step [500/938],Loss: 0.5041\n",
      "Epoch [3/5], Step [600/938],Loss: 0.4093\n",
      "Epoch [3/5], Step [700/938],Loss: 0.5504\n",
      "Epoch [3/5], Step [800/938],Loss: 0.2953\n",
      "Epoch [3/5], Step [900/938],Loss: 0.3700\n",
      "Epoch [4/5], Step [100/938],Loss: 0.3378\n",
      "Epoch [4/5], Step [200/938],Loss: 0.4396\n",
      "Epoch [4/5], Step [300/938],Loss: 0.3288\n",
      "Epoch [4/5], Step [400/938],Loss: 0.2453\n",
      "Epoch [4/5], Step [500/938],Loss: 0.2739\n",
      "Epoch [4/5], Step [600/938],Loss: 0.4033\n",
      "Epoch [4/5], Step [700/938],Loss: 0.2787\n",
      "Epoch [4/5], Step [800/938],Loss: 0.4230\n",
      "Epoch [4/5], Step [900/938],Loss: 0.6372\n",
      "Epoch [5/5], Step [100/938],Loss: 0.5490\n",
      "Epoch [5/5], Step [200/938],Loss: 0.2193\n",
      "Epoch [5/5], Step [300/938],Loss: 0.3228\n",
      "Epoch [5/5], Step [400/938],Loss: 0.2940\n",
      "Epoch [5/5], Step [500/938],Loss: 0.2727\n",
      "Epoch [5/5], Step [600/938],Loss: 0.6058\n",
      "Epoch [5/5], Step [700/938],Loss: 0.1942\n",
      "Epoch [5/5], Step [800/938],Loss: 0.4764\n",
      "Epoch [5/5], Step [900/938],Loss: 0.3361\n"
     ]
    }
   ],
   "source": [
    "n_tsteps = len(train_loader)\n",
    "running_loss =0.0\n",
    "running_correct= 0\n",
    "for epoch in range(num_epochs):\n",
    "    for i, (images, labels) in enumerate(train_loader):\n",
    "        # Load images with gradient accumulation capabilities\n",
    "        images = images.reshape(-1, 784).to(device)\n",
    "        labels = labels.to(device)\n",
    "\n",
    "        # Forward pass to get output/logits\n",
    "        outputs = model(images)\n",
    "\n",
    "        # Calculate Loss: softmax --> cross entropy loss\n",
    "        loss = criterion(outputs, labels)\n",
    "\n",
    "        # Clear gradients w.r.t. parameters\n",
    "        optimizer.zero_grad()\n",
    "\n",
    "        # Getting gradients w.r.t. parameters\n",
    "        loss.backward()\n",
    "\n",
    "        # Updating parameters\n",
    "        optimizer.step()\n",
    "\n",
    "        running_loss+=loss.item()\n",
    "        _, predicted = torch.max(outputs.data, 1)\n",
    "        running_correct += (predicted == labels).sum().item()\n",
    "\n",
    "        if (i+1) % 100 == 0:\n",
    "            print(f'Epoch [{epoch+1}/{num_epochs}], Step [{i+1}/{n_tsteps}],Loss: {loss.item():.4f}')\n",
    "            Writer.add_scalar('training_loss',running_loss/100,epoch*n_tsteps+i)\n",
    "            Writer.add_scalar('accuracy',running_correct/100,epoch*n_tsteps+i)\n",
    "            running_loss=0.0\n",
    "            running_correct=0\n",
    "        "
   ]
  },
  {
   "source": [
    "# TEST THE MODEL"
   ],
   "cell_type": "markdown",
   "metadata": {}
  },
  {
   "cell_type": "code",
   "execution_count": 14,
   "metadata": {},
   "outputs": [
    {
     "output_type": "stream",
     "name": "stdout",
     "text": [
      "Accuracy of the network on the test images: 91.20999908447266%\n"
     ]
    }
   ],
   "source": [
    "labels=[]\n",
    "preds=[]\n",
    "\n",
    "with torch.no_grad():\n",
    "    # Calculate Accuracy         \n",
    "    correct = 0\n",
    "    total = 0\n",
    "\n",
    "    # Iterate through test dataset\n",
    "    for images, labels1 in test_loader:\n",
    "        # Load images with gradient accumulation capabilities\n",
    "        images = images.reshape(-1, 784).to(device)\n",
    "        labels1 = labels1.to(device)\n",
    "\n",
    "        # Forward pass only to get logits/output\n",
    "        outputs = model(images)\n",
    "\n",
    "        # Get predictions from the maximum value\n",
    "        _, predicted = torch.max(outputs.data, 1)\n",
    "\n",
    "        # Total number of labels\n",
    "        total += labels1.size(0)\n",
    "\n",
    "        # Total correct predictions\n",
    "        correct += (predicted == labels1).sum()\n",
    "\n",
    "        class_pred = [F.softmax(output,dim =0) for output in outputs]\n",
    "        preds.append(class_pred)\n",
    "        labels.append(predicted)\n",
    "    \n",
    "    preds = torch.cat([torch.stack(batch) for batch in preds])\n",
    "    labels = torch.cat(labels)\n",
    "    accuracy = 100 * correct / total\n",
    "\n",
    "    # Print Loss\n",
    "    print(f'Accuracy of the network on the test images: {accuracy}%')\n",
    "\n",
    "    for i in range(10):\n",
    "        labels_i= labels == i\n",
    "        preds_i= preds[:,1]\n",
    "        Writer.add_pr_curve(str(i),labels_i,preds_i,global_step=0)\n",
    "        Writer.close()"
   ]
  },
  {
   "cell_type": "code",
   "execution_count": null,
   "metadata": {},
   "outputs": [],
   "source": []
  }
 ]
}